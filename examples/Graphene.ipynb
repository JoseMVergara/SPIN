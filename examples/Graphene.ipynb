{
 "cells": [
  {
   "cell_type": "markdown",
   "id": "95a8f300-7dab-4eed-b0d7-209c5ef709cb",
   "metadata": {},
   "source": [
    "#  Graphene \n",
    "\n",
    "Graphene is the most studied two-dimensional system. A  complete review of graphene's electronic properties is written in [1]. The easy form to obtain graphene in the laboratory and its remarkable electronic, thermal,  mechanical, and optical properties turn it into the most studied two-dimensional (2D) material [2]. This explosion of interest in graphene and the release of 2D materials matches an incredible growth of the computational tools to analyze and characterize the properties of 2D materials and predict new 2D materials [3]. The all computational tool density functional theory (DFT)  stands out by its power for quantitatively predicting several properties of complex materials.  We  have  access to   many  comersial  and  academic  implementation  of  the  DFT theory   \n",
    "\n",
    "Graphene  is  a  triangular  lattice  with  two  carbon  atoms  in  the  unit  cell. The  vector  of  the unit  cell and the  atomic positions  of carbon  atoms  for  graphene  are  given  in the **Tab 1**\n",
    "\n",
    " Paramete   | $\\hat{i}$              | $\\hat{j}$           | $\\hat{k}$ |\n",
    " -------- |-----------------------|----------------------- |-----|\n",
    "$\\vec{a}$ |  $\\frac{3}{2}a_{cc}$  |$\\frac{\\sqrt{3}}{2}acc$ | 0   |\n",
    "$\\vec{b}$ | $\\frac{3}{2}a_{cc}$   |$-\\frac{\\sqrt{3}}{2}acc$| 0   |\n",
    "$\\vec{c}$ |     $0$               |      $0$               | $15.$    \n",
    "Atom$_{A}$|  $0$                  | $0$                    | $0$ |\n",
    "Atom$_{B}$|  $a_{cc}$             | $0$                    | $0$ |\n",
    "\n",
    "**Tab 1:** Geometric  parameter  to  graphene  unit  cell.  $a_{cc} =1.44 \\overset{\\circ}{A}$ represent  the  distance  between  two  carbon  atoms  in  the  structure.\n",
    "\n",
    "The  geometric  parameters  of  the  unit  cell  can  be  include  in  SPIN-GUI. \n",
    "\n",
    "\n",
    "\n",
    "\n",
    "The  first  step  is  activate  the  configuration  and  intance  the  App,  employed the next  code\n",
    "\n",
    "```python\n",
    "from spin import *\n",
    "App = Spin()\n",
    "\n",
    "```\n",
    "then  we  can  used  module structure()  of  the  SPIN-GUI to  define  the  unit  cell \n",
    "\n"
   ]
  },
  {
   "cell_type": "markdown",
   "id": "8f57d610-dea4-4ef3-bce4-9c62f08f662b",
   "metadata": {},
   "source": [
    " # Preconfiguration  SPIN GUI \n",
    "\n",
    "To  activate  the  configuration  and  intance  the  App,  employed the next  code\n",
    "\n",
    "```python\n",
    "from spin import *\n",
    "App = Spin()\n",
    "\n",
    "\n",
    "```\n",
    "Then   we  have  access to  the  SPIN  modulos\n",
    "\n",
    "    *structure()\n",
    "    *preprocessing()\n",
    "    *calculations()\n",
    "    "
   ]
  },
  {
   "cell_type": "markdown",
   "id": "76075885",
   "metadata": {},
   "source": [
    "<div class=\"alert alert-block alert-warning\">\n",
    "<b>Important note:</b> If you want to execute Graphene example please copy or move the current notebook to SPIN root folder (SPIN/), i.e. the same path as SPIN-GUI.ipynb (https://github.com/JoseMVergara/SPIN). \n",
    "</div>"
   ]
  },
  {
   "cell_type": "code",
   "execution_count": null,
   "id": "14505561",
   "metadata": {},
   "outputs": [],
   "source": [
    "#  configure  files \n",
    "from spin import *\n",
    "\n",
    "App = Spin()"
   ]
  },
  {
   "cell_type": "markdown",
   "id": "6dfdfee4",
   "metadata": {},
   "source": [
    "We  can  used  module structure of  the  SPIN-GUI to  build our structure and define  the  unit  cell.  When run the App.Structure() command it can be seen four different options to build the structure, these are, upload input file, create the structure manually, make any of SPIN predefined structures or load already create SPIN structures. For Graphene example, we are going to select second option (Create structure manually). The first step is introduce how many atoms will have the structure, that is, two for graphene example. Once the number of atoms were introduced, SPIN-GUI asks for coordinates of each atom and the values of the unit cell as it can be seen in figure. These values can be found in tab 1. After the structure creation, the \\textit{Viewer} tab gives the possibility to visualize and edit the created Graphene structure\n",
    "<!-- ![Graphene example structure configuration](./examples/images/Graphene_Structure.jpg \"Structure\") -->\n",
    "<!-- ![Graphene example viewer](./examples/images/Graphene_Structure2.jpg \"Structure\") -->\n",
    "\n",
    "![Graphene example structure configuration](./images/Graphene_Structure.jpg \"Structure\")\n",
    "![Graphene example viewer](./images/Graphene_Structure2.jpg \"Viewer\")\n",
    "\n"
   ]
  },
  {
   "cell_type": "code",
   "execution_count": null,
   "id": "f91621fc-a5dc-459c-b72f-6f811944547f",
   "metadata": {
    "autorun": true,
    "tags": []
   },
   "outputs": [],
   "source": [
    "App.structure()"
   ]
  },
  {
   "cell_type": "markdown",
   "id": "c2484721-3700-4150-9a17-b0a7761fd359",
   "metadata": {},
   "source": [
    "#  Cofigured SIESTA  calculation \n",
    "\n",
    "Next step is the creation of SIESTA input files in which the only python command we need to use is App.preprocessing(). When App.preprocessing() is called, SPIN-GUI shows some of the most used SIESTA parameters as inputs in _Create input file_ tab, besides, the end-user can select the calculations to run, that is,  structure optimization, get band structure, density of states (DOS) and/or calculate optical properties. Any SIESTA parameters not found in the _\"Create input file\"_ tab can be quickly and easily introduced in the  _\"Additional parameters\"_ tab. For Graphene example:\n",
    "\n",
    "<!-- ![Graphene example preprocessing configuration](./examples/images/Graphene_Preprocesing.jpg \"Structure\") -->\n",
    "![Graphene example preprocessing configuration](./images/Graphene_Preprocesing.jpg \"Preprocess\")\n",
    " Once the inputs were completed, and _\"Make fdf\"_ button was clicked, the folder contains Graphene example job must have been created, all the flow and outputs will be stored there."
   ]
  },
  {
   "cell_type": "code",
   "execution_count": null,
   "id": "e379ecdc-a31e-4bfd-a666-a1798fb26f5f",
   "metadata": {
    "autorun": true,
    "tags": []
   },
   "outputs": [],
   "source": [
    "# setup  siesta  parameters \n",
    "App.preprocessing()"
   ]
  },
  {
   "cell_type": "markdown",
   "id": "e77ede82-a054-420b-9ed9-23945e85159d",
   "metadata": {},
   "source": [
    "#  Start  calculation\n",
    "\n",
    "When the inputs files and jobs were created, it allows user to perform selected calculations. To do this, the invocation of Calculations() is mandatory. End-user can choose one or multiple created jobs and then, one or multiple actions. When multiple actions were choose it will execute sequentially. Pressing the _\"Run\"_ button will start the selected calculations. As each of the processes ends, an initial basic report will be generated that allows user to know in a general way some characteristics of the results, according to each types of calculations, for example, it can be found Total Energy of the system after the optimization of the structure, and in the case of the calculation of the band structure it can be found information such as band-gap value and a basic graph of band structure.\n",
    "\n",
    "<!-- ![Graphene example preprocessing configuration](./examples/images/Graphene_Calculations.jpg \"Structure\") -->\n",
    "![Graphene example preprocessing configuration](./images/Graphene_Calculations.jpg \"Calculations\")"
   ]
  },
  {
   "cell_type": "code",
   "execution_count": null,
   "id": "f98b7287-9484-4027-a55d-64308d46c5ce",
   "metadata": {
    "scrolled": false
   },
   "outputs": [],
   "source": [
    "Calculations()"
   ]
  },
  {
   "cell_type": "markdown",
   "id": "cdda220e-b98d-4909-afbb-03839edfbe23",
   "metadata": {},
   "source": [
    "##  References \n",
    "\n",
    "[1] Neto, A. C., Guinea, F., Peres, N. M., Novoselov, K. S., & Geim, A. K. (2009). The electronic properties of graphene. Reviews of modern physics, 81(1), 109.\n",
    "\n",
    "[2] Novoselov, K. S., Colombo, L., Gellert, P. R., Schwab, M. G., & Kim, K. (2012). A roadmap for graphene. nature, 490(7419), 192-200.\n",
    "\n",
    "[3] Paul, J. T., Singh, A. K., Dong, Z., Zhuang, H., Revard, B. C., Rijal, B., ... & Hennig, R. G. (2017). Computational methods for 2D materials: discovery, property characterization, and application design. Journal of Physics: Condensed Matter, 29(47), 473001."
   ]
  },
  {
   "cell_type": "code",
   "execution_count": null,
   "id": "01560684-ad91-4162-ad24-ea1a807a4900",
   "metadata": {},
   "outputs": [],
   "source": []
  }
 ],
 "metadata": {
  "citation-manager": {
   "items": {}
  },
  "kernelspec": {
   "display_name": "Python 3 (ipykernel)",
   "language": "python",
   "name": "python3"
  },
  "language_info": {
   "codemirror_mode": {
    "name": "ipython",
    "version": 3
   },
   "file_extension": ".py",
   "mimetype": "text/x-python",
   "name": "python",
   "nbconvert_exporter": "python",
   "pygments_lexer": "ipython3",
   "version": "3.9.7"
  },
  "widgets": {
   "application/vnd.jupyter.widget-state+json": {
    "state": {
     "005b54fe80ba4fb496d92dd6858bc694": {
      "model_module": "@jupyter-widgets/base",
      "model_module_version": "1.2.0",
      "model_name": "LayoutModel",
      "state": {}
     },
     "009062aa1a33482ea85a69e3195838be": {
      "model_module": "@jupyter-widgets/base",
      "model_module_version": "1.2.0",
      "model_name": "LayoutModel",
      "state": {}
     },
     "019032df6a394cc2962be17e2d99880d": {
      "model_module": "@jupyter-widgets/controls",
      "model_module_version": "1.5.0",
      "model_name": "BoundedIntTextModel",
      "state": {
       "layout": "IPY_MODEL_f7d331a222c04011bbc8a48cb825f06f",
       "max": 2000,
       "style": "IPY_MODEL_995eb96be6184e19a499b134af9f05ec",
       "value": 1
      }
     },
     "032cb4f741594aa38a7753cc62344e0b": {
      "model_module": "@jupyter-widgets/base",
      "model_module_version": "1.2.0",
      "model_name": "LayoutModel",
      "state": {}
     },
     "039478a7b03a42a2a774556a1049310c": {
      "model_module": "@jupyter-widgets/controls",
      "model_module_version": "1.5.0",
      "model_name": "DescriptionStyleModel",
      "state": {
       "description_width": ""
      }
     },
     "046c41ee275f453ab4e2043d9129471c": {
      "model_module": "@jupyter-widgets/base",
      "model_module_version": "1.2.0",
      "model_name": "LayoutModel",
      "state": {
       "align_items": "stretch",
       "border": "doted",
       "display": "flex",
       "flex_flow": "row",
       "width": "90%"
      }
     },
     "04ffaa7a726f40928b6daec9892d88ec": {
      "model_module": "@jupyter-widgets/controls",
      "model_module_version": "1.5.0",
      "model_name": "FileUploadModel",
      "state": {
       "accept": "*.cif",
       "description_tooltip": null,
       "layout": "IPY_MODEL_da6fd08f7c86446cbb9f02fd56178df5",
       "style": "IPY_MODEL_f8d46d5a500247148c63f31003755658"
      }
     },
     "065ac435ad2c43dba2543b8ab9f67437": {
      "model_module": "@jupyter-widgets/base",
      "model_module_version": "1.2.0",
      "model_name": "LayoutModel",
      "state": {}
     },
     "06758434b51f42039025653ee40ea40d": {
      "model_module": "@jupyter-widgets/base",
      "model_module_version": "1.2.0",
      "model_name": "LayoutModel",
      "state": {}
     },
     "077d08dc6ad4441fbd5ab02960139421": {
      "model_module": "@jupyter-widgets/base",
      "model_module_version": "1.2.0",
      "model_name": "LayoutModel",
      "state": {}
     },
     "082a85ae1271432b9ba450e3e1922889": {
      "model_module": "@jupyter-widgets/controls",
      "model_module_version": "1.5.0",
      "model_name": "LabelModel",
      "state": {
       "layout": "IPY_MODEL_51a131084e244078b1c4589548d9eed2",
       "style": "IPY_MODEL_ab37df79671f4936a3d47d97447f36f3",
       "value": "Edit Atom"
      }
     },
     "083c7ced08e34a11b7db897393456b1a": {
      "model_module": "@jupyter-widgets/controls",
      "model_module_version": "1.5.0",
      "model_name": "LabelModel",
      "state": {
       "layout": "IPY_MODEL_553518e4639640b88898d3770bd372b8",
       "style": "IPY_MODEL_1efcad2509e443228a850d186b3eef0a",
       "value": "Add Atom"
      }
     },
     "0860aff126724f23b7152614e98e6e79": {
      "model_module": "@jupyter-widgets/controls",
      "model_module_version": "1.5.0",
      "model_name": "DescriptionStyleModel",
      "state": {
       "description_width": ""
      }
     },
     "088322f32104440c9abf1bb7458b5fa5": {
      "model_module": "@jupyter-widgets/controls",
      "model_module_version": "1.5.0",
      "model_name": "LabelModel",
      "state": {
       "layout": "IPY_MODEL_79eaddd3de5a42bc833cbf5252302cc9",
       "style": "IPY_MODEL_49ad429c3f0a4440bfd4c81673ff0f27",
       "value": "m value: "
      }
     },
     "08f99520e3354635a8195ca51d908819": {
      "model_module": "@jupyter-widgets/controls",
      "model_module_version": "1.5.0",
      "model_name": "ButtonStyleModel",
      "state": {}
     },
     "0a0ee9265ee84f0da5611993d3610dd2": {
      "model_module": "@jupyter-widgets/controls",
      "model_module_version": "1.5.0",
      "model_name": "LabelModel",
      "state": {
       "layout": "IPY_MODEL_e9ca7b6204cd41a59c58f0fe3bb15eeb",
       "style": "IPY_MODEL_2bda1edfa5b44d74a3149381310d5604",
       "value": "Show labels"
      }
     },
     "0b0314105f544e3e87dced37e4d718b6": {
      "model_module": "@jupyter-widgets/controls",
      "model_module_version": "1.5.0",
      "model_name": "DescriptionStyleModel",
      "state": {
       "description_width": ""
      }
     },
     "0b0441cd32ce4485a24da68b0ac13029": {
      "model_module": "@jupyter-widgets/controls",
      "model_module_version": "1.5.0",
      "model_name": "DescriptionStyleModel",
      "state": {
       "description_width": ""
      }
     },
     "0b9fcd5abfca417d9bb2ff4d85ddd8b2": {
      "model_module": "@jupyter-widgets/base",
      "model_module_version": "1.2.0",
      "model_name": "LayoutModel",
      "state": {}
     },
     "0bc72b31cead43968871e3cffcc14069": {
      "model_module": "@jupyter-widgets/controls",
      "model_module_version": "1.5.0",
      "model_name": "HBoxModel",
      "state": {
       "children": [
        "IPY_MODEL_b64a11575479441a97f7a7d5dc606e4c",
        "IPY_MODEL_123299e8904d40d39887fdd432b458fb"
       ],
       "layout": "IPY_MODEL_b8ccf80774f746b9ac2a84128c75d0d0"
      }
     },
     "0ca3ebf18fe842d4bece4d428f778688": {
      "model_module": "@jupyter-widgets/controls",
      "model_module_version": "1.5.0",
      "model_name": "DescriptionStyleModel",
      "state": {
       "description_width": ""
      }
     },
     "0ce75fd2ffee45428d390d0486e396c6": {
      "model_module": "@jupyter-widgets/controls",
      "model_module_version": "1.5.0",
      "model_name": "DescriptionStyleModel",
      "state": {
       "description_width": ""
      }
     },
     "0d011d3c36264aed8ccf037aab01a97f": {
      "model_module": "@jupyter-widgets/controls",
      "model_module_version": "1.5.0",
      "model_name": "HBoxModel",
      "state": {
       "children": [
        "IPY_MODEL_e472873ab9bf431ebac0afe09608dae9"
       ],
       "layout": "IPY_MODEL_642a1815702943ffb8f2d24ecf9415e3"
      }
     },
     "0dc8c32cfa6d45f39bf1b45ac010116e": {
      "model_module": "@jupyter-widgets/base",
      "model_module_version": "1.2.0",
      "model_name": "LayoutModel",
      "state": {
       "height": "25px",
       "width": "150px"
      }
     },
     "0df0fe689cf5496092c6f98c3aa9aba5": {
      "model_module": "@jupyter-widgets/controls",
      "model_module_version": "1.5.0",
      "model_name": "DescriptionStyleModel",
      "state": {
       "description_width": ""
      }
     },
     "0f5bb937087e48249750517c7eaf849c": {
      "model_module": "@jupyter-widgets/controls",
      "model_module_version": "1.5.0",
      "model_name": "DescriptionStyleModel",
      "state": {
       "description_width": ""
      }
     },
     "0f8cccf6cc1f4172850adcc462447770": {
      "model_module": "@jupyter-widgets/controls",
      "model_module_version": "1.5.0",
      "model_name": "LabelModel",
      "state": {
       "layout": "IPY_MODEL_61d8e582f8264cfaa53f68ea6912bb3a",
       "style": "IPY_MODEL_c8eb2095f8af40bbaf3aa123e1fca62d",
       "value": "c/a ratio used for hcp. Default is ideal ratio: sqrt(8/3): "
      }
     },
     "0fae0e5b25384b008d79241861a48312": {
      "model_module": "@jupyter-widgets/base",
      "model_module_version": "1.2.0",
      "model_name": "LayoutModel",
      "state": {
       "align_items": "stretch",
       "border": "doted",
       "display": "flex",
       "flex_flow": "row",
       "width": "90%"
      }
     },
     "102fd3ab4f9f495bac7865bb90d8b9ef": {
      "model_module": "@jupyter-widgets/base",
      "model_module_version": "1.2.0",
      "model_name": "LayoutModel",
      "state": {}
     },
     "1034e3e91ddb427bb7e3d9411f3fddbb": {
      "model_module": "@jupyter-widgets/base",
      "model_module_version": "1.2.0",
      "model_name": "LayoutModel",
      "state": {
       "align_items": "stretch",
       "border": "doted",
       "display": "flex",
       "flex_flow": "row",
       "width": "90%"
      }
     },
     "10a527fedd4846aea8b9ba27f368d656": {
      "model_module": "@jupyter-widgets/controls",
      "model_module_version": "1.5.0",
      "model_name": "HBoxModel",
      "state": {
       "children": [
        "IPY_MODEL_898937b8216c484b84bbe534ca12e32f",
        "IPY_MODEL_8e0a126b40bc469c9e791beaa4e09622"
       ],
       "layout": "IPY_MODEL_06758434b51f42039025653ee40ea40d"
      }
     },
     "10d6b072a573448dbdddaa32e77aeeba": {
      "model_module": "@jupyter-widgets/base",
      "model_module_version": "1.2.0",
      "model_name": "LayoutModel",
      "state": {
       "height": "25px",
       "width": "150px"
      }
     },
     "118ec06a76bf4306b81fcaab441b523b": {
      "model_module": "@jupyter-widgets/controls",
      "model_module_version": "1.5.0",
      "model_name": "DescriptionStyleModel",
      "state": {
       "description_width": ""
      }
     },
     "11e3ded182724ef59c0a5fd0443ec728": {
      "model_module": "@jupyter-widgets/base",
      "model_module_version": "1.2.0",
      "model_name": "LayoutModel",
      "state": {
       "margin": "0 0 0 1em"
      }
     },
     "123299e8904d40d39887fdd432b458fb": {
      "model_module": "@jupyter-widgets/controls",
      "model_module_version": "1.5.0",
      "model_name": "TextModel",
      "state": {
       "layout": "IPY_MODEL_fd2f6e018aa740dc9498ae40ff048998",
       "placeholder": "Ingresa ",
       "style": "IPY_MODEL_b8bf199771154a8082bf8a0a95d18d17",
       "value": "P"
      }
     },
     "1253c38fdd7a49c1ba041d04cb395aca": {
      "model_module": "@jupyter-widgets/controls",
      "model_module_version": "1.5.0",
      "model_name": "HBoxModel",
      "state": {
       "children": [
        "IPY_MODEL_748a0a61d8e541e792d61e7042efb9a5",
        "IPY_MODEL_b7769c917b1c44b9ae4ee3ad0f2ddd9f"
       ],
       "layout": "IPY_MODEL_f9d6df3886c7417bac7ab0e9a9b1183a"
      }
     },
     "12da28f3b3e64a5690979de78e31b846": {
      "model_module": "@jupyter-widgets/controls",
      "model_module_version": "1.5.0",
      "model_name": "HBoxModel",
      "state": {
       "children": [
        "IPY_MODEL_2e4a097e02434c72b5ab89c8259b2e24",
        "IPY_MODEL_7d197a02e1524bc4b80837a00f7822f1"
       ],
       "layout": "IPY_MODEL_542955d1c97e4cdbbc72c64306aa89b9"
      }
     },
     "13465cee0dca44a8bbb39c3a73645b03": {
      "model_module": "@jupyter-widgets/controls",
      "model_module_version": "1.5.0",
      "model_name": "AccordionModel",
      "state": {
       "children": [
        "IPY_MODEL_63588b8dfd62426295e6485425d623c3"
       ],
       "layout": "IPY_MODEL_407763a78ab04debab314ecb32df29ba"
      }
     },
     "14324af6c1ed4ceb821dddc93a380ae6": {
      "model_module": "@jupyter-widgets/controls",
      "model_module_version": "1.5.0",
      "model_name": "SelectModel",
      "state": {
       "_options_labels": [
        "📁 ..",
        "📁 CH3CH2O",
        "📁 Graphene"
       ],
       "index": null,
       "layout": "IPY_MODEL_ae11f584489c40979a65dcb8d3f6cb92",
       "rows": 8,
       "style": "IPY_MODEL_287fbe0733a240cdbd403da820257390"
      }
     },
     "157bc13935534287ac51fc8373322ac0": {
      "model_module": "@jupyter-widgets/controls",
      "model_module_version": "1.5.0",
      "model_name": "DescriptionStyleModel",
      "state": {
       "description_width": ""
      }
     },
     "1625485436ed475c9681f40043c1c8da": {
      "model_module": "@jupyter-widgets/controls",
      "model_module_version": "1.5.0",
      "model_name": "DescriptionStyleModel",
      "state": {
       "description_width": ""
      }
     },
     "16d46225400d4ed3920878ebfbc8f2e3": {
      "model_module": "@jupyter-widgets/base",
      "model_module_version": "1.2.0",
      "model_name": "LayoutModel",
      "state": {
       "height": "25px",
       "width": "150px"
      }
     },
     "1729fa9eebc64b3ea1a5594211b8e623": {
      "model_module": "@jupyter-widgets/controls",
      "model_module_version": "1.5.0",
      "model_name": "HBoxModel",
      "state": {
       "children": [
        "IPY_MODEL_0f8cccf6cc1f4172850adcc462447770",
        "IPY_MODEL_52bb48207ef64c3e9d83cb9dd1b5354c"
       ],
       "layout": "IPY_MODEL_5b5b7cde11484c2b9907ba3e0c4a15ef"
      }
     },
     "174872704409460595443845b981ffc6": {
      "model_module": "@jupyter-widgets/controls",
      "model_module_version": "1.5.0",
      "model_name": "DropdownModel",
      "state": {
       "_options_labels": [
        "sc",
        "fcc",
        "bcc",
        "tetragonal",
        "bct",
        "hcp",
        "rhombohedral",
        "orthorhombic",
        "mlc",
        "diamond",
        "zincblende",
        "rocksalt",
        "cesiumchloride",
        "fluorite",
        "wurtzite",
        "None"
       ],
       "index": 15,
       "layout": "IPY_MODEL_df2d3e6ce87641da8c59c7202a1f726e",
       "style": "IPY_MODEL_3a799bf730ce4ccebf8a4a5f85c90199"
      }
     },
     "17662fdc9cdb4ac9834bb811010311c0": {
      "model_module": "@jupyter-widgets/controls",
      "model_module_version": "1.5.0",
      "model_name": "DescriptionStyleModel",
      "state": {
       "description_width": ""
      }
     },
     "17665f8dece14ecabd36e8abddc1bc58": {
      "model_module": "@jupyter-widgets/controls",
      "model_module_version": "1.5.0",
      "model_name": "LabelModel",
      "state": {
       "layout": "IPY_MODEL_1abe769b72da40aaaadf5949d955f176",
       "style": "IPY_MODEL_512017e9bcae4c54be073fe0efc57738",
       "value": "n value: "
      }
     },
     "17cf2a63bc224c90b90a02fd177b3493": {
      "model_module": "@jupyter-widgets/controls",
      "model_module_version": "1.5.0",
      "model_name": "VBoxModel",
      "state": {
       "children": [
        "IPY_MODEL_9f6a23c8a88546738191d346029ce070",
        "IPY_MODEL_308af2afec7d41aaa5cd8c0048d53f61",
        "IPY_MODEL_ab8b83c60c6c4663a49b5ea2e935ec5d",
        "IPY_MODEL_d6c44d435a6348748189684dd7aefb8a",
        "IPY_MODEL_f726e8c568364679a438086398ce60b8",
        "IPY_MODEL_8b2d4617cd484e96b8181c5e24be6f63",
        "IPY_MODEL_a51e2ee9f6624d14b62ac3f40b52dffe"
       ],
       "layout": "IPY_MODEL_658e38fa807d4c6981df1d9830d33d9b"
      }
     },
     "199a472f08ef49d2aa46c82674f5bce4": {
      "model_module": "@jupyter-widgets/controls",
      "model_module_version": "1.5.0",
      "model_name": "DescriptionStyleModel",
      "state": {
       "description_width": ""
      }
     },
     "19a36a8346094b4e834d12142e79066b": {
      "model_module": "@jupyter-widgets/controls",
      "model_module_version": "1.5.0",
      "model_name": "BoundedIntTextModel",
      "state": {
       "layout": "IPY_MODEL_9e53d1d1c2844e559bd6215602a607c3",
       "max": 2000,
       "style": "IPY_MODEL_199a472f08ef49d2aa46c82674f5bce4",
       "value": 1
      }
     },
     "1a4c98d7a3584c7bbd443a3cff9490b8": {
      "model_module": "@jupyter-widgets/base",
      "model_module_version": "1.2.0",
      "model_name": "LayoutModel",
      "state": {}
     },
     "1abe769b72da40aaaadf5949d955f176": {
      "model_module": "@jupyter-widgets/base",
      "model_module_version": "1.2.0",
      "model_name": "LayoutModel",
      "state": {}
     },
     "1afb4bf2197a4ebd9a91f7335b5d1a5c": {
      "model_module": "@jupyter-widgets/base",
      "model_module_version": "1.2.0",
      "model_name": "LayoutModel",
      "state": {
       "height": "25px",
       "width": "150px"
      }
     },
     "1aff414244cc4d18b32183827d565721": {
      "model_module": "@jupyter-widgets/controls",
      "model_module_version": "1.5.0",
      "model_name": "DescriptionStyleModel",
      "state": {
       "description_width": ""
      }
     },
     "1bb3866fe1c44845b66322036d73ffd2": {
      "model_module": "@jupyter-widgets/controls",
      "model_module_version": "1.5.0",
      "model_name": "DescriptionStyleModel",
      "state": {
       "description_width": ""
      }
     },
     "1dd21a55d0d644eba94f6cfaaa10640b": {
      "model_module": "@jupyter-widgets/controls",
      "model_module_version": "1.5.0",
      "model_name": "CheckboxModel",
      "state": {
       "disabled": false,
       "indent": false,
       "layout": "IPY_MODEL_e9fceddaf3a54b589cffd16f88de9145",
       "style": "IPY_MODEL_5241cc6b17f545c6a7c1f40e540b1418",
       "value": false
      }
     },
     "1e16aa0098fd46ee99095834057c6747": {
      "model_module": "@jupyter-widgets/base",
      "model_module_version": "1.2.0",
      "model_name": "LayoutModel",
      "state": {
       "align_items": "stretch",
       "border": "doted",
       "display": "flex",
       "flex_flow": "column",
       "width": "100%"
      }
     },
     "1e251e22d66c47a686fdc902c9d3594f": {
      "model_module": "@jupyter-widgets/controls",
      "model_module_version": "1.5.0",
      "model_name": "LabelModel",
      "state": {
       "layout": "IPY_MODEL_e100897543fe45e7b595bc6934a9c5bd",
       "style": "IPY_MODEL_8a1077e489aa498094a5170741dea5dc",
       "value": "Buckling value: "
      }
     },
     "1efcad2509e443228a850d186b3eef0a": {
      "model_module": "@jupyter-widgets/controls",
      "model_module_version": "1.5.0",
      "model_name": "DescriptionStyleModel",
      "state": {
       "description_width": ""
      }
     },
     "201468227b124e08afd41482318aeaa5": {
      "model_module": "@jupyter-widgets/controls",
      "model_module_version": "1.5.0",
      "model_name": "DescriptionStyleModel",
      "state": {
       "description_width": ""
      }
     },
     "2092cc7898d34e6bb2f36c2b77baa127": {
      "model_module": "@jupyter-widgets/controls",
      "model_module_version": "1.5.0",
      "model_name": "DescriptionStyleModel",
      "state": {
       "description_width": ""
      }
     },
     "2120df626e3f43758f3d4f8ff30e5283": {
      "model_module": "@jupyter-widgets/base",
      "model_module_version": "1.2.0",
      "model_name": "LayoutModel",
      "state": {
       "height": "20px",
       "width": "50px"
      }
     },
     "21da8338e24f4156b19be36d3640abde": {
      "model_module": "@jupyter-widgets/controls",
      "model_module_version": "1.5.0",
      "model_name": "DescriptionStyleModel",
      "state": {
       "description_width": ""
      }
     },
     "2319753994fc433ea59c97f305552f51": {
      "model_module": "@jupyter-widgets/controls",
      "model_module_version": "1.5.0",
      "model_name": "TextModel",
      "state": {
       "layout": "IPY_MODEL_7ef29315d6894b588070da940284d58f",
       "placeholder": "Ingresa ",
       "style": "IPY_MODEL_7dde0a4b58cd4a0180a26077d1ea579d",
       "value": "None"
      }
     },
     "23a32b2615984e7aba0805d990c2873b": {
      "model_module": "@jupyter-widgets/controls",
      "model_module_version": "1.5.0",
      "model_name": "ButtonModel",
      "state": {
       "button_style": "primary",
       "description": "Create structure manually",
       "layout": "IPY_MODEL_e4c76fd0dfe14e279900cdc89455b6e9",
       "style": "IPY_MODEL_64745002971d4e368912f4c04631dec5"
      }
     },
     "244240047a994cfeb221ab68a9ab878e": {
      "model_module": "@jupyter-widgets/controls",
      "model_module_version": "1.5.0",
      "model_name": "TextModel",
      "state": {
       "layout": "IPY_MODEL_383f1ff646dd40f78679db50be96c95b",
       "placeholder": "Ingresa ",
       "style": "IPY_MODEL_dd3c5c5594264e8a89b3057a37dd96d1",
       "value": "None"
      }
     },
     "24ba2ace3e9542a8827e5c1f9b72ae86": {
      "model_module": "@jupyter-widgets/base",
      "model_module_version": "1.2.0",
      "model_name": "LayoutModel",
      "state": {
       "height": "25px",
       "width": "70px"
      }
     },
     "24e5bdce077942d7a5f94b0874fa9aec": {
      "model_module": "@jupyter-widgets/controls",
      "model_module_version": "1.5.0",
      "model_name": "ToggleButtonModel",
      "state": {
       "description": "Saturated",
       "layout": "IPY_MODEL_16d46225400d4ed3920878ebfbc8f2e3",
       "style": "IPY_MODEL_366743fc355b4248964ffcbb9dd63cc7",
       "tooltip": "If true, hydrogen atoms are placed along the edge."
      }
     },
     "256e890dad2443c8a45d1cd01a1475ed": {
      "model_module": "@jupyter-widgets/base",
      "model_module_version": "1.2.0",
      "model_name": "LayoutModel",
      "state": {}
     },
     "25d4231185944746997e1a7e2c81638d": {
      "model_module": "@jupyter-widgets/base",
      "model_module_version": "1.2.0",
      "model_name": "LayoutModel",
      "state": {}
     },
     "2644bed14067419ebca7f1d80d215931": {
      "model_module": "@jupyter-widgets/controls",
      "model_module_version": "1.5.0",
      "model_name": "LabelModel",
      "state": {
       "layout": "IPY_MODEL_005b54fe80ba4fb496d92dd6858bc694",
       "style": "IPY_MODEL_9ccba196cc19452c9ca85490effc0710",
       "value": "Symbol: "
      }
     },
     "26da01e1cb494b64bebb5200611fc840": {
      "model_module": "@jupyter-widgets/controls",
      "model_module_version": "1.5.0",
      "model_name": "HBoxModel",
      "state": {
       "children": [
        "IPY_MODEL_db1930d3ed65469d86cb493a4e8dccf2",
        "IPY_MODEL_3b0e77b7d84b4295882a0475271d3eab"
       ],
       "layout": "IPY_MODEL_9cdd7d25e5d74b1db3e7e6e07c08b37e"
      }
     },
     "27a20e5587244e7b9483744ab6d58ace": {
      "model_module": "@jupyter-widgets/controls",
      "model_module_version": "1.5.0",
      "model_name": "DescriptionStyleModel",
      "state": {
       "description_width": ""
      }
     },
     "287fbe0733a240cdbd403da820257390": {
      "model_module": "@jupyter-widgets/controls",
      "model_module_version": "1.5.0",
      "model_name": "DescriptionStyleModel",
      "state": {
       "description_width": ""
      }
     },
     "28a7345c22fc4f5cbc47d92f72ddf8ce": {
      "model_module": "@jupyter-widgets/controls",
      "model_module_version": "1.5.0",
      "model_name": "DropdownModel",
      "state": {
       "_options_labels": [
        "/mnt/c/Users/57321/Dropbox/Personal/Nanotubos_Github/Ensinia/SPIN/calculations",
        "/mnt/c/Users/57321/Dropbox/Personal/Nanotubos_Github/Ensinia/SPIN",
        "/mnt/c/Users/57321/Dropbox/Personal/Nanotubos_Github/Ensinia",
        "/mnt/c/Users/57321/Dropbox/Personal/Nanotubos_Github",
        "/mnt/c/Users/57321/Dropbox/Personal",
        "/mnt/c/Users/57321/Dropbox",
        "/mnt/c/Users/57321",
        "/mnt/c/Users",
        "/mnt/c",
        "/mnt",
        "/"
       ],
       "index": 0,
       "layout": "IPY_MODEL_b22a6928241a4e238121c03175629f41",
       "style": "IPY_MODEL_eaa569c67f3e45379b9327fdda828c38"
      }
     },
     "2a4c037356a84a08b2c68e15f06d5e63": {
      "model_module": "@jupyter-widgets/base",
      "model_module_version": "1.2.0",
      "model_name": "LayoutModel",
      "state": {}
     },
     "2aade61682c04e2c8f3d82748e1d66b2": {
      "model_module": "@jupyter-widgets/base",
      "model_module_version": "1.2.0",
      "model_name": "LayoutModel",
      "state": {
       "align_items": "stretch",
       "border": "doted",
       "display": "flex",
       "flex_flow": "row",
       "width": "90%"
      }
     },
     "2ae17c6caab84bb7a797dfe02f4debeb": {
      "model_module": "@jupyter-widgets/controls",
      "model_module_version": "1.5.0",
      "model_name": "DescriptionStyleModel",
      "state": {
       "description_width": ""
      }
     },
     "2af210a767db47efa11087479c5e1981": {
      "model_module": "@jupyter-widgets/controls",
      "model_module_version": "1.5.0",
      "model_name": "VBoxModel",
      "state": {
       "children": [
        "IPY_MODEL_cc9df8d00310416a89a23fa613b24b8e",
        "IPY_MODEL_71e0d6150378412bbe6bb2cbd4a14ba6"
       ],
       "layout": "IPY_MODEL_858b17ec0f354f8395fc94364eccfb13"
      }
     },
     "2bda1edfa5b44d74a3149381310d5604": {
      "model_module": "@jupyter-widgets/controls",
      "model_module_version": "1.5.0",
      "model_name": "DescriptionStyleModel",
      "state": {
       "description_width": ""
      }
     },
     "2c0adcc65db8493b91fc81c287fcd703": {
      "model_module": "@jupyter-widgets/controls",
      "model_module_version": "1.5.0",
      "model_name": "DescriptionStyleModel",
      "state": {
       "description_width": ""
      }
     },
     "2c66a44f1ff64ba2a1baf72becd38086": {
      "model_module": "@jupyter-widgets/controls",
      "model_module_version": "1.5.0",
      "model_name": "VBoxModel",
      "state": {
       "children": [
        "IPY_MODEL_555d6c5a2e464b4583176f784f0a34e5",
        "IPY_MODEL_12da28f3b3e64a5690979de78e31b846",
        "IPY_MODEL_de947520e5684e9da902e69f0e2a1c76",
        "IPY_MODEL_67c080f295d842bead11c5a25a46ab4f",
        "IPY_MODEL_83cfff2a53b4482aacfbed8be31d5999",
        "IPY_MODEL_1253c38fdd7a49c1ba041d04cb395aca",
        "IPY_MODEL_6163719d88884ed9b4248ee68d17c4e4",
        "IPY_MODEL_b6d86a58b05d4776908be3daa3811709",
        "IPY_MODEL_50bf14433dd5445587f7aadd5f14966a",
        "IPY_MODEL_9c0c6aecbbdd434bb0756ba638ba68e6",
        "IPY_MODEL_0d011d3c36264aed8ccf037aab01a97f",
        "IPY_MODEL_a418ee70fc1d4c5697633470466ca932"
       ],
       "layout": "IPY_MODEL_ec388fbf3cc744bc88f061c0155aa579"
      }
     },
     "2cb9945614a04473a90ec16f46a6a3a0": {
      "model_module": "@jupyter-widgets/base",
      "model_module_version": "1.2.0",
      "model_name": "LayoutModel",
      "state": {}
     },
     "2e4a097e02434c72b5ab89c8259b2e24": {
      "model_module": "@jupyter-widgets/controls",
      "model_module_version": "1.5.0",
      "model_name": "LabelModel",
      "state": {
       "layout": "IPY_MODEL_e08747349baf430fa7f3b24a139a39af",
       "style": "IPY_MODEL_78677613e0e54462844826308b268c7d",
       "value": "n value: The width of the nanoribbon. For armchair nanoribbons, this n may be half-integer to repeat by half a cell."
      }
     },
     "2f71a2d01ee34d09aa55d6e84c9e6c4c": {
      "model_module": "@jupyter-widgets/controls",
      "model_module_version": "1.5.0",
      "model_name": "DescriptionStyleModel",
      "state": {
       "description_width": ""
      }
     },
     "301430b3eea14a7e80d8e456e16ff482": {
      "model_module": "@jupyter-widgets/controls",
      "model_module_version": "1.5.0",
      "model_name": "ButtonModel",
      "state": {
       "button_style": "success",
       "description": "Create structure",
       "layout": "IPY_MODEL_ef0de77b983b40ada595fcecfa2c8c02",
       "style": "IPY_MODEL_08f99520e3354635a8195ca51d908819"
      }
     },
     "306c8989b2414608bf817c8f1ffdef57": {
      "model_module": "@jupyter-widgets/controls",
      "model_module_version": "1.5.0",
      "model_name": "TabModel",
      "state": {
       "_titles": {
        "0": "Structure options",
        "1": "Viewer"
       },
       "children": [
        "IPY_MODEL_8180bc1b1fef4c91b6aaa58728f98147",
        "IPY_MODEL_a24cb8c4f8cc48c18f4ef104aeb5d587"
       ],
       "layout": "IPY_MODEL_315ab507cab64c2ca846d384398b116d"
      }
     },
     "3076e083d15049b5b47c234bb81ad7bc": {
      "model_module": "@jupyter-widgets/controls",
      "model_module_version": "1.5.0",
      "model_name": "DescriptionStyleModel",
      "state": {
       "description_width": ""
      }
     },
     "308af2afec7d41aaa5cd8c0048d53f61": {
      "model_module": "@jupyter-widgets/controls",
      "model_module_version": "1.5.0",
      "model_name": "HBoxModel",
      "state": {
       "children": [
        "IPY_MODEL_b9fdfb3251c7419bbd337013ff7506d1",
        "IPY_MODEL_c6036ef2717f4523960911842fee426b"
       ],
       "layout": "IPY_MODEL_cdf385b29fa74ad1a65e1f14737eddd2"
      }
     },
     "315ab507cab64c2ca846d384398b116d": {
      "model_module": "@jupyter-widgets/base",
      "model_module_version": "1.2.0",
      "model_name": "LayoutModel",
      "state": {
       "align_content": "stretch",
       "align_items": "stretch",
       "border": "solid 1px",
       "display": "flex",
       "flex": "flex-grow",
       "flex_flow": "column"
      }
     },
     "31d4d13f1a3f461ab0315d07f0e1d74b": {
      "model_module": "@jupyter-widgets/controls",
      "model_module_version": "1.5.0",
      "model_name": "DescriptionStyleModel",
      "state": {
       "description_width": ""
      }
     },
     "322667a7e34640ca97ef8204e2318cd3": {
      "model_module": "@jupyter-widgets/base",
      "model_module_version": "1.2.0",
      "model_name": "LayoutModel",
      "state": {}
     },
     "327de872bf6c4c53b98fad4aa2111187": {
      "model_module": "@jupyter-widgets/controls",
      "model_module_version": "1.5.0",
      "model_name": "DescriptionStyleModel",
      "state": {
       "description_width": ""
      }
     },
     "3309d8bcd4254e059a37fd9450d90e45": {
      "model_module": "@jupyter-widgets/base",
      "model_module_version": "1.2.0",
      "model_name": "LayoutModel",
      "state": {
       "align_items": "stretch",
       "border": "doted",
       "display": "flex",
       "flex_flow": "row",
       "width": "90%"
      }
     },
     "3328da051a2c4b82a4582ad935aa3dbc": {
      "model_module": "@jupyter-widgets/controls",
      "model_module_version": "1.5.0",
      "model_name": "DescriptionStyleModel",
      "state": {
       "description_width": ""
      }
     },
     "339fc0acc16442c799a959a1b7b8e292": {
      "model_module": "@jupyter-widgets/base",
      "model_module_version": "1.2.0",
      "model_name": "LayoutModel",
      "state": {
       "display": "none"
      }
     },
     "34002e0e5ae14679b27bf413f52e14fe": {
      "model_module": "@jupyter-widgets/controls",
      "model_module_version": "1.5.0",
      "model_name": "ButtonModel",
      "state": {
       "button_style": "success",
       "description": "Generate structure",
       "layout": "IPY_MODEL_3c94828f137c48e0b3559148d5d4939d",
       "style": "IPY_MODEL_fcaecc67bc504da5b231e85df82e7ccd"
      }
     },
     "3560306256354d2b8242438ca21664b4": {
      "model_module": "@jupyter-widgets/base",
      "model_module_version": "1.2.0",
      "model_name": "LayoutModel",
      "state": {}
     },
     "3664ec19df4549aebb606c978e70c96f": {
      "model_module": "@jupyter-widgets/base",
      "model_module_version": "1.2.0",
      "model_name": "LayoutModel",
      "state": {
       "height": "25px",
       "width": "auto"
      }
     },
     "366743fc355b4248964ffcbb9dd63cc7": {
      "model_module": "@jupyter-widgets/controls",
      "model_module_version": "1.5.0",
      "model_name": "DescriptionStyleModel",
      "state": {
       "description_width": ""
      }
     },
     "36b2513b456e4c33bb9418129d851321": {
      "model_module": "@jupyter-widgets/controls",
      "model_module_version": "1.5.0",
      "model_name": "HBoxModel",
      "state": {
       "children": [
        "IPY_MODEL_7c3522e5235f49808fa21fe8f19875dc",
        "IPY_MODEL_43fe4c2df5d8486fa1dd148f11c371e8",
        "IPY_MODEL_40cb2ccbc89546d9a6727131e8490d61"
       ],
       "layout": "IPY_MODEL_d9e28f0c92e34b22bc482c405f627c7d"
      }
     },
     "375af0a34c49464d98c17ae2dba7bf16": {
      "model_module": "@jupyter-widgets/base",
      "model_module_version": "1.2.0",
      "model_name": "LayoutModel",
      "state": {
       "height": "25px",
       "width": "150px"
      }
     },
     "378a42f3ac2348b0b26a616d63233b80": {
      "model_module": "@jupyter-widgets/base",
      "model_module_version": "1.2.0",
      "model_name": "LayoutModel",
      "state": {
       "align_items": "stretch",
       "border": "doted",
       "display": "flex",
       "flex_flow": "row",
       "width": "90%"
      }
     },
     "383f1ff646dd40f78679db50be96c95b": {
      "model_module": "@jupyter-widgets/base",
      "model_module_version": "1.2.0",
      "model_name": "LayoutModel",
      "state": {
       "height": "25px",
       "width": "150px"
      }
     },
     "388f68fe6fc74731918b1fab2e18879c": {
      "model_module": "@jupyter-widgets/base",
      "model_module_version": "1.2.0",
      "model_name": "LayoutModel",
      "state": {
       "height": "25px",
       "width": "auto"
      }
     },
     "3920211c57894a3da73024b361e706db": {
      "model_module": "@jupyter-widgets/controls",
      "model_module_version": "1.5.0",
      "model_name": "HBoxModel",
      "state": {
       "children": [
        "IPY_MODEL_1e251e22d66c47a686fdc902c9d3594f",
        "IPY_MODEL_3cf1751ed09045d3afbf420831423a9f"
       ],
       "layout": "IPY_MODEL_102fd3ab4f9f495bac7865bb90d8b9ef"
      }
     },
     "39b24e9144e54b7f9f62e12777f51447": {
      "model_module": "@jupyter-widgets/controls",
      "model_module_version": "1.5.0",
      "model_name": "ButtonStyleModel",
      "state": {}
     },
     "39ea1a34838a42fa911baf096025ca4c": {
      "model_module": "@jupyter-widgets/controls",
      "model_module_version": "1.5.0",
      "model_name": "LabelModel",
      "state": {
       "layout": "IPY_MODEL_b3fe7f1dfcfa44fab555f831a7543ed4",
       "style": "IPY_MODEL_1aff414244cc4d18b32183827d565721",
       "value": "Vacuum: Amount of vacuum added to non-periodic directions "
      }
     },
     "3a6e663621244d089c30738bb16ed2ab": {
      "model_module": "@jupyter-widgets/base",
      "model_module_version": "1.2.0",
      "model_name": "LayoutModel",
      "state": {
       "align_items": "stretch",
       "border": "doted",
       "display": "flex",
       "flex_flow": "row",
       "width": "90%"
      }
     },
     "3a799bf730ce4ccebf8a4a5f85c90199": {
      "model_module": "@jupyter-widgets/controls",
      "model_module_version": "1.5.0",
      "model_name": "DescriptionStyleModel",
      "state": {
       "description_width": ""
      }
     },
     "3b0e77b7d84b4295882a0475271d3eab": {
      "model_module": "@jupyter-widgets/controls",
      "model_module_version": "1.5.0",
      "model_name": "BoundedIntTextModel",
      "state": {
       "layout": "IPY_MODEL_f6c4989dcd814d4fa685210ba6bf85e0",
       "max": 2000,
       "style": "IPY_MODEL_0ce75fd2ffee45428d390d0486e396c6",
       "value": 1
      }
     },
     "3bf24eb302414febb85f4f28daa396a1": {
      "model_module": "@jupyter-widgets/controls",
      "model_module_version": "1.5.0",
      "model_name": "ButtonStyleModel",
      "state": {}
     },
     "3c209cb0814840f59d2e014eed4ac614": {
      "model_module": "@jupyter-widgets/base",
      "model_module_version": "1.2.0",
      "model_name": "LayoutModel",
      "state": {}
     },
     "3c54cb45612f472b944a35d997ee7329": {
      "model_module": "@jupyter-widgets/base",
      "model_module_version": "1.2.0",
      "model_name": "LayoutModel",
      "state": {
       "height": "25px",
       "width": "150px"
      }
     },
     "3c94828f137c48e0b3559148d5d4939d": {
      "model_module": "@jupyter-widgets/base",
      "model_module_version": "1.2.0",
      "model_name": "LayoutModel",
      "state": {
       "height": "25px",
       "width": "auto"
      }
     },
     "3ce9de768e864df69b092efed91d8bf4": {
      "model_module": "@jupyter-widgets/controls",
      "model_module_version": "1.5.0",
      "model_name": "DescriptionStyleModel",
      "state": {
       "description_width": ""
      }
     },
     "3cf1751ed09045d3afbf420831423a9f": {
      "model_module": "@jupyter-widgets/controls",
      "model_module_version": "1.5.0",
      "model_name": "FloatTextModel",
      "state": {
       "layout": "IPY_MODEL_bf06b071e2b0408c930c4252b4b3987d",
       "step": null,
       "style": "IPY_MODEL_d20a146d5e3548e8a654b0ff49a2c2e2",
       "value": 1
      }
     },
     "3d5336ab834842c7bdfaa23d39a28f6e": {
      "model_module": "@jupyter-widgets/base",
      "model_module_version": "1.2.0",
      "model_name": "LayoutModel",
      "state": {}
     },
     "407763a78ab04debab314ecb32df29ba": {
      "model_module": "@jupyter-widgets/base",
      "model_module_version": "1.2.0",
      "model_name": "LayoutModel",
      "state": {}
     },
     "409a39e238ba41919f9ee98f71a00226": {
      "model_module": "@jupyter-widgets/controls",
      "model_module_version": "1.5.0",
      "model_name": "DescriptionStyleModel",
      "state": {
       "description_width": ""
      }
     },
     "409f6739aed94e519aadb1a9621a0d3e": {
      "model_module": "@jupyter-widgets/base",
      "model_module_version": "1.2.0",
      "model_name": "LayoutModel",
      "state": {}
     },
     "40cb2ccbc89546d9a6727131e8490d61": {
      "model_module": "@jupyter-widgets/controls",
      "model_module_version": "1.5.0",
      "model_name": "BoxModel",
      "state": {
       "children": [
        "IPY_MODEL_7cd64e0ef09e41c0bfb0023b095fa3f3"
       ],
       "layout": "IPY_MODEL_fc680585a8d04f73b78f1896accf9ba7"
      }
     },
     "41d435c44ba04171bc8d2f514834a87d": {
      "model_module": "@jupyter-widgets/controls",
      "model_module_version": "1.5.0",
      "model_name": "HTMLModel",
      "state": {
       "layout": "IPY_MODEL_339fc0acc16442c799a959a1b7b8e292",
       "style": "IPY_MODEL_b0287608faf74b278b263da30c014bfb"
      }
     },
     "429f4f97eb404b73b8b2711d3eb12813": {
      "model_module": "@jupyter-widgets/controls",
      "model_module_version": "1.5.0",
      "model_name": "LabelModel",
      "state": {
       "layout": "IPY_MODEL_1a4c98d7a3584c7bbd443a3cff9490b8",
       "style": "IPY_MODEL_6a2a96145c6941b8896a9b015a94bfb4",
       "value": "Angle in degrees for rhombohedral lattice: "
      }
     },
     "433fe88ebe7e48c29b4ebaf5bce21a84": {
      "model_module": "@jupyter-widgets/base",
      "model_module_version": "1.2.0",
      "model_name": "LayoutModel",
      "state": {
       "align_items": "stretch",
       "border": "doted",
       "display": "flex",
       "flex_flow": "row",
       "width": "90%"
      }
     },
     "43fe4c2df5d8486fa1dd148f11c371e8": {
      "model_module": "@jupyter-widgets/controls",
      "model_module_version": "1.5.0",
      "model_name": "ButtonModel",
      "state": {
       "description": "Cancel",
       "layout": "IPY_MODEL_fa6a06cd3afc465a95f5b40862a34a1b",
       "style": "IPY_MODEL_e8ef4ba42866488689019a0e3bc1e066"
      }
     },
     "44aef3bff00c45b486d037471e9606fa": {
      "model_module": "@jupyter-widgets/base",
      "model_module_version": "1.2.0",
      "model_name": "LayoutModel",
      "state": {
       "align_items": "stretch",
       "border": "doted",
       "display": "flex",
       "flex_flow": "row",
       "width": "90%"
      }
     },
     "450ff13df9224af7a0f32da5a8a1b7a4": {
      "model_module": "@jupyter-widgets/controls",
      "model_module_version": "1.5.0",
      "model_name": "LabelModel",
      "state": {
       "layout": "IPY_MODEL_970443014f214ea1ac093695edc3e6a3",
       "style": "IPY_MODEL_e8c2ba8bf4274c529e2c783210485689",
       "value": "bond value: "
      }
     },
     "45e2d5ffca2848558bc74c0eb89db6a5": {
      "model_module": "@jupyter-widgets/base",
      "model_module_version": "1.2.0",
      "model_name": "LayoutModel",
      "state": {}
     },
     "45f6968f6b5645dea0d47110541d5312": {
      "model_module": "@jupyter-widgets/base",
      "model_module_version": "1.2.0",
      "model_name": "LayoutModel",
      "state": {
       "align_items": "stretch",
       "border": "doted",
       "display": "flex",
       "flex_flow": "row",
       "width": "90%"
      }
     },
     "4710b890ef4b4b23b26e64a58d8bfeea": {
      "model_module": "@jupyter-widgets/controls",
      "model_module_version": "1.5.0",
      "model_name": "ValidModel",
      "state": {
       "description": "Valid!",
       "layout": "IPY_MODEL_f61e40d7ff8d49548e1db0ffa0b2bfd1",
       "style": "IPY_MODEL_ca2718ddbba140cf838179f04a362a3c",
       "value": true
      }
     },
     "47cdbbe265ef4f29b260203848bdfcb3": {
      "model_module": "@jupyter-widgets/base",
      "model_module_version": "1.2.0",
      "model_name": "LayoutModel",
      "state": {}
     },
     "47d5085c31b84409820fba049d276056": {
      "model_module": "@jupyter-widgets/base",
      "model_module_version": "1.2.0",
      "model_name": "LayoutModel",
      "state": {
       "grid_area": "filename",
       "width": "auto"
      }
     },
     "486013eccea44f9ca36f93a60b198613": {
      "model_module": "@jupyter-widgets/base",
      "model_module_version": "1.2.0",
      "model_name": "LayoutModel",
      "state": {}
     },
     "49ad429c3f0a4440bfd4c81673ff0f27": {
      "model_module": "@jupyter-widgets/controls",
      "model_module_version": "1.5.0",
      "model_name": "DescriptionStyleModel",
      "state": {
       "description_width": ""
      }
     },
     "4a5a495f343d42df9dc024f0591cd9c8": {
      "model_module": "@jupyter-widgets/base",
      "model_module_version": "1.2.0",
      "model_name": "LayoutModel",
      "state": {}
     },
     "4bb748de6a2b4a63baab19c962ecf54a": {
      "model_module": "@jupyter-widgets/base",
      "model_module_version": "1.2.0",
      "model_name": "LayoutModel",
      "state": {
       "align_items": "stretch",
       "border": "doted",
       "display": "flex",
       "flex_flow": "row",
       "width": "90%"
      }
     },
     "4c5b6e88010d4ec69c88f46542e5d412": {
      "model_module": "@jupyter-widgets/controls",
      "model_module_version": "1.5.0",
      "model_name": "HBoxModel",
      "state": {
       "children": [
        "IPY_MODEL_acc92ae7ac3e4bac834d59ee340479cd",
        "IPY_MODEL_a2c3959c393c40c2ae20e57bfe140707"
       ],
       "layout": "IPY_MODEL_5d71344e580a4be8b958fd56df913d67"
      }
     },
     "4c9588586a0743678f12ff6c2bcf5d7f": {
      "model_module": "@jupyter-widgets/controls",
      "model_module_version": "1.5.0",
      "model_name": "DescriptionStyleModel",
      "state": {
       "description_width": ""
      }
     },
     "4d7e6fc780f84256a816470946002f35": {
      "model_module": "@jupyter-widgets/base",
      "model_module_version": "1.2.0",
      "model_name": "LayoutModel",
      "state": {}
     },
     "4ef78f5caccb4120b2934d2d18031e5d": {
      "model_module": "@jupyter-widgets/base",
      "model_module_version": "1.2.0",
      "model_name": "LayoutModel",
      "state": {
       "height": "25px",
       "width": "150px"
      }
     },
     "4f24e69991e744de94b6b4d6d8db7cbd": {
      "model_module": "@jupyter-widgets/base",
      "model_module_version": "1.2.0",
      "model_name": "LayoutModel",
      "state": {}
     },
     "4f540679a5c64933a5f117494e0918e8": {
      "model_module": "@jupyter-widgets/base",
      "model_module_version": "1.2.0",
      "model_name": "LayoutModel",
      "state": {
       "align_items": "stretch",
       "border": "doted",
       "display": "flex",
       "flex_flow": "row",
       "width": "90%"
      }
     },
     "501c9eba932a42dcb184b6a2d1503913": {
      "model_module": "@jupyter-widgets/base",
      "model_module_version": "1.2.0",
      "model_name": "LayoutModel",
      "state": {}
     },
     "5086e172580b46acbbc2a11b7bfa0a2d": {
      "model_module": "@jupyter-widgets/base",
      "model_module_version": "1.2.0",
      "model_name": "LayoutModel",
      "state": {}
     },
     "50a8627a981144798d10dc04b43a0b50": {
      "model_module": "@jupyter-widgets/base",
      "model_module_version": "1.2.0",
      "model_name": "LayoutModel",
      "state": {
       "align_items": "stretch",
       "border": "doted",
       "display": "flex",
       "flex_flow": "row",
       "width": "90%"
      }
     },
     "50bf14433dd5445587f7aadd5f14966a": {
      "model_module": "@jupyter-widgets/controls",
      "model_module_version": "1.5.0",
      "model_name": "HBoxModel",
      "state": {
       "children": [
        "IPY_MODEL_d6d7827ee8b34f98a17af99d1a802624"
       ],
       "layout": "IPY_MODEL_7c15b9d58b624ae3af9f8ec6fb2f4cf6"
      }
     },
     "512017e9bcae4c54be073fe0efc57738": {
      "model_module": "@jupyter-widgets/controls",
      "model_module_version": "1.5.0",
      "model_name": "DescriptionStyleModel",
      "state": {
       "description_width": ""
      }
     },
     "51a131084e244078b1c4589548d9eed2": {
      "model_module": "@jupyter-widgets/base",
      "model_module_version": "1.2.0",
      "model_name": "LayoutModel",
      "state": {}
     },
     "52174f134f9b4fad9990556a3bfdd398": {
      "model_module": "@jupyter-widgets/base",
      "model_module_version": "1.2.0",
      "model_name": "LayoutModel",
      "state": {
       "align_items": "stretch",
       "border": "doted",
       "display": "flex",
       "flex_flow": "row",
       "width": "90%"
      }
     },
     "523e080ac3e54ea6898f00d6620463e8": {
      "model_module": "@jupyter-widgets/controls",
      "model_module_version": "1.5.0",
      "model_name": "ButtonModel",
      "state": {
       "button_style": "success",
       "description": "Generate structure",
       "layout": "IPY_MODEL_f04567e8778e4cb1b93972affff43722",
       "style": "IPY_MODEL_39b24e9144e54b7f9f62e12777f51447"
      }
     },
     "5241cc6b17f545c6a7c1f40e540b1418": {
      "model_module": "@jupyter-widgets/controls",
      "model_module_version": "1.5.0",
      "model_name": "DescriptionStyleModel",
      "state": {
       "description_width": ""
      }
     },
     "52bb48207ef64c3e9d83cb9dd1b5354c": {
      "model_module": "@jupyter-widgets/controls",
      "model_module_version": "1.5.0",
      "model_name": "TextModel",
      "state": {
       "layout": "IPY_MODEL_9b7fe47eeea44e47b4415cac16b229c8",
       "placeholder": "Ingresa ",
       "style": "IPY_MODEL_201468227b124e08afd41482318aeaa5",
       "value": "None"
      }
     },
     "53ad8240a010407ab8ee5dcd37276419": {
      "model_module": "@jupyter-widgets/controls",
      "model_module_version": "1.5.0",
      "model_name": "DescriptionStyleModel",
      "state": {
       "description_width": ""
      }
     },
     "53deea8a14974df98107bf357f653246": {
      "model_module": "@jupyter-widgets/controls",
      "model_module_version": "1.5.0",
      "model_name": "DescriptionStyleModel",
      "state": {
       "description_width": ""
      }
     },
     "542955d1c97e4cdbbc72c64306aa89b9": {
      "model_module": "@jupyter-widgets/base",
      "model_module_version": "1.2.0",
      "model_name": "LayoutModel",
      "state": {}
     },
     "54d9e23e98024aa58aea425c75e96fba": {
      "model_module": "@jupyter-widgets/controls",
      "model_module_version": "1.5.0",
      "model_name": "DescriptionStyleModel",
      "state": {
       "description_width": ""
      }
     },
     "553518e4639640b88898d3770bd372b8": {
      "model_module": "@jupyter-widgets/base",
      "model_module_version": "1.2.0",
      "model_name": "LayoutModel",
      "state": {}
     },
     "555d6c5a2e464b4583176f784f0a34e5": {
      "model_module": "@jupyter-widgets/controls",
      "model_module_version": "1.5.0",
      "model_name": "HTMLModel",
      "state": {
       "layout": "IPY_MODEL_409f6739aed94e519aadb1a9621a0d3e",
       "style": "IPY_MODEL_3328da051a2c4b82a4582ad935aa3dbc",
       "value": "Creates a graphene nanoribbon in the x-z plane, with the nanoribbon running along the z axis."
      }
     },
     "55a57357858f45dd934800dba62cec9a": {
      "model_module": "@jupyter-widgets/controls",
      "model_module_version": "1.5.0",
      "model_name": "DescriptionStyleModel",
      "state": {
       "description_width": ""
      }
     },
     "56de2ccbbd3347f5b6dc6208e92ade5f": {
      "model_module": "@jupyter-widgets/base",
      "model_module_version": "1.2.0",
      "model_name": "LayoutModel",
      "state": {
       "width": "max-content"
      }
     },
     "58768a05b5294fec926de7094e83869e": {
      "model_module": "@jupyter-widgets/controls",
      "model_module_version": "1.5.0",
      "model_name": "LabelModel",
      "state": {
       "layout": "IPY_MODEL_009062aa1a33482ea85a69e3195838be",
       "style": "IPY_MODEL_ebc749d72c304e03ad5df50a5a5410fa",
       "value": "Lattice constant c: "
      }
     },
     "59898804e6a74fcaa7df887d4a5d28b0": {
      "model_module": "@jupyter-widgets/base",
      "model_module_version": "1.2.0",
      "model_name": "LayoutModel",
      "state": {
       "display": "none",
       "grid_gap": "0px 0px",
       "grid_template_areas": "\n                    'pathlist filename'\n                    'dircontent dircontent'\n                    ",
       "grid_template_columns": "60% 40%",
       "grid_template_rows": "auto auto",
       "width": "auto"
      }
     },
     "5b5b7cde11484c2b9907ba3e0c4a15ef": {
      "model_module": "@jupyter-widgets/base",
      "model_module_version": "1.2.0",
      "model_name": "LayoutModel",
      "state": {}
     },
     "5c0624f8194f4a09bc89d77075eea8c1": {
      "model_module": "@jupyter-widgets/controls",
      "model_module_version": "1.5.0",
      "model_name": "HBoxModel",
      "state": {
       "children": [
        "IPY_MODEL_2644bed14067419ebca7f1d80d215931",
        "IPY_MODEL_94b943efe9754efc917ab964567317bf"
       ],
       "layout": "IPY_MODEL_a55e14bb6b364894a92ce9cbc8b2dd42"
      }
     },
     "5d71344e580a4be8b958fd56df913d67": {
      "model_module": "@jupyter-widgets/base",
      "model_module_version": "1.2.0",
      "model_name": "LayoutModel",
      "state": {}
     },
     "5e1327256c0e418084549a54547ea1d6": {
      "model_module": "@jupyter-widgets/base",
      "model_module_version": "1.2.0",
      "model_name": "LayoutModel",
      "state": {}
     },
     "5ecd4de9a2074510b34680be0f2ee700": {
      "model_module": "@jupyter-widgets/base",
      "model_module_version": "1.2.0",
      "model_name": "LayoutModel",
      "state": {
       "height": "25px",
       "width": "70px"
      }
     },
     "6044a04e11fd49b3bebe477092437ac1": {
      "model_module": "@jupyter-widgets/controls",
      "model_module_version": "1.5.0",
      "model_name": "LabelModel",
      "state": {
       "layout": "IPY_MODEL_25d4231185944746997e1a7e2c81638d",
       "style": "IPY_MODEL_804f318c372e4e4baf96a4bfd72c85b1",
       "value": "Select molecule: "
      }
     },
     "60e5193294af4befba8c18ecb4c67d7b": {
      "model_module": "@jupyter-widgets/controls",
      "model_module_version": "1.5.0",
      "model_name": "LabelModel",
      "state": {
       "layout": "IPY_MODEL_fb011466262e435fa654bbbf7648084f",
       "style": "IPY_MODEL_7b525702319b4ec5b1607b0876ba2de1",
       "value": "Select Visualizer"
      }
     },
     "614cb1cc42394b6d994202ed6eeace1c": {
      "model_module": "@jupyter-widgets/controls",
      "model_module_version": "1.5.0",
      "model_name": "HBoxModel",
      "state": {
       "children": [
        "IPY_MODEL_91d20e3f2f924d43bfff9f3898e6de75",
        "IPY_MODEL_019032df6a394cc2962be17e2d99880d"
       ],
       "layout": "IPY_MODEL_45e2d5ffca2848558bc74c0eb89db6a5"
      }
     },
     "6163719d88884ed9b4248ee68d17c4e4": {
      "model_module": "@jupyter-widgets/controls",
      "model_module_version": "1.5.0",
      "model_name": "HBoxModel",
      "state": {
       "children": [
        "IPY_MODEL_fc6ca0a5d8194f5b852b25a93d7144f0",
        "IPY_MODEL_f026d34322aa48efa5c3b3c284f4db96"
       ],
       "layout": "IPY_MODEL_7034267e35014923a6f2b20b763920d3"
      }
     },
     "61b7823b88a34295a5e383ecce546541": {
      "model_module": "@jupyter-widgets/controls",
      "model_module_version": "1.5.0",
      "model_name": "HBoxModel",
      "state": {
       "children": [
        "IPY_MODEL_23a32b2615984e7aba0805d990c2873b"
       ],
       "layout": "IPY_MODEL_bcde3a471c8442bc910959d933542382"
      }
     },
     "61d8e582f8264cfaa53f68ea6912bb3a": {
      "model_module": "@jupyter-widgets/base",
      "model_module_version": "1.2.0",
      "model_name": "LayoutModel",
      "state": {}
     },
     "62dfc14876964b6488dca397e306a67a": {
      "model_module": "@jupyter-widgets/controls",
      "model_module_version": "1.5.0",
      "model_name": "DescriptionStyleModel",
      "state": {
       "description_width": ""
      }
     },
     "63588b8dfd62426295e6485425d623c3": {
      "model_module": "@jupyter-widgets/controls",
      "model_module_version": "1.5.0",
      "model_name": "VBoxModel",
      "state": {
       "children": [
        "IPY_MODEL_f0ce86f3bdcd42ffb1e13dcc9e168d2f",
        "IPY_MODEL_a6eb656f3b1c471eb36da2fc906b4bba",
        "IPY_MODEL_e59429068baa412c98cb0f64e2fd97e8"
       ],
       "layout": "IPY_MODEL_7ff4a7f30caa4e0187db2a0088229487"
      }
     },
     "63d8c5c95eea4273a1ec0ca7a2380586": {
      "model_module": "@jupyter-widgets/base",
      "model_module_version": "1.2.0",
      "model_name": "LayoutModel",
      "state": {}
     },
     "642a1815702943ffb8f2d24ecf9415e3": {
      "model_module": "@jupyter-widgets/base",
      "model_module_version": "1.2.0",
      "model_name": "LayoutModel",
      "state": {}
     },
     "644737dae97041ad987c25d46262ba4d": {
      "model_module": "@jupyter-widgets/controls",
      "model_module_version": "1.5.0",
      "model_name": "DropdownModel",
      "state": {
       "_options_labels": [
        "0"
       ],
       "index": 0,
       "layout": "IPY_MODEL_e8dbb08ac6e54ef686d3a27ed0728295",
       "style": "IPY_MODEL_0b0441cd32ce4485a24da68b0ac13029"
      }
     },
     "64745002971d4e368912f4c04631dec5": {
      "model_module": "@jupyter-widgets/controls",
      "model_module_version": "1.5.0",
      "model_name": "ButtonStyleModel",
      "state": {}
     },
     "654c161783ba4e89afc6699f8fd02e63": {
      "model_module": "@jupyter-widgets/controls",
      "model_module_version": "1.5.0",
      "model_name": "ToggleButtonModel",
      "state": {
       "description": "Cubic ",
       "layout": "IPY_MODEL_9f012c65e0a2426ba3d2ecdb880a4ba8",
       "style": "IPY_MODEL_157bc13935534287ac51fc8373322ac0",
       "tooltip": "Construct cubic unit cell if possible."
      }
     },
     "658e38fa807d4c6981df1d9830d33d9b": {
      "model_module": "@jupyter-widgets/base",
      "model_module_version": "1.2.0",
      "model_name": "LayoutModel",
      "state": {}
     },
     "67c080f295d842bead11c5a25a46ab4f": {
      "model_module": "@jupyter-widgets/controls",
      "model_module_version": "1.5.0",
      "model_name": "HBoxModel",
      "state": {
       "children": [
        "IPY_MODEL_d8d5e1c3f070415381ad53504fa8005d",
        "IPY_MODEL_d16562b37da047118513b6b9dca88a33"
       ],
       "layout": "IPY_MODEL_8187ed1c2632493992b3082d487cc0dd"
      }
     },
     "680e23264c7e4ab1bbab2607c8faecc0": {
      "model_module": "@jupyter-widgets/base",
      "model_module_version": "1.2.0",
      "model_name": "LayoutModel",
      "state": {
       "height": "25px",
       "width": "auto"
      }
     },
     "6856040bd1b84e24a6e9888cc97c046d": {
      "model_module": "@jupyter-widgets/base",
      "model_module_version": "1.2.0",
      "model_name": "LayoutModel",
      "state": {
       "height": "25px",
       "width": "150px"
      }
     },
     "689dfc1b36fd46bc8f681fbb52de5b3e": {
      "model_module": "@jupyter-widgets/base",
      "model_module_version": "1.2.0",
      "model_name": "LayoutModel",
      "state": {
       "height": "25px",
       "width": "auto"
      }
     },
     "68c65bc884ca44f78cc5f32c74dc0324": {
      "model_module": "@jupyter-widgets/base",
      "model_module_version": "1.2.0",
      "model_name": "LayoutModel",
      "state": {}
     },
     "6a2a96145c6941b8896a9b015a94bfb4": {
      "model_module": "@jupyter-widgets/controls",
      "model_module_version": "1.5.0",
      "model_name": "DescriptionStyleModel",
      "state": {
       "description_width": ""
      }
     },
     "6a3db1dbd5d444d8a9330b2bd1d2a05a": {
      "model_module": "@jupyter-widgets/controls",
      "model_module_version": "1.5.0",
      "model_name": "GridBoxModel",
      "state": {
       "children": [
        "IPY_MODEL_28a7345c22fc4f5cbc47d92f72ddf8ce",
        "IPY_MODEL_cda8b8607c514e87a3e417173a21cbcb",
        "IPY_MODEL_14324af6c1ed4ceb821dddc93a380ae6"
       ],
       "layout": "IPY_MODEL_59898804e6a74fcaa7df887d4a5d28b0"
      }
     },
     "6d894cb9d7ad4a02b96c8dfeeed561e7": {
      "model_module": "@jupyter-widgets/controls",
      "model_module_version": "1.5.0",
      "model_name": "DescriptionStyleModel",
      "state": {
       "description_width": ""
      }
     },
     "6f863366acef47d29a0c23f597e90c98": {
      "model_module": "@jupyter-widgets/controls",
      "model_module_version": "1.5.0",
      "model_name": "LabelModel",
      "state": {
       "layout": "IPY_MODEL_c62df36170544a91bd0fc275525aa2ca",
       "style": "IPY_MODEL_80ca16456d644899b3932996a21e7537",
       "value": "Select saved structures folder (Default \"Calculations\"): "
      }
     },
     "6fc65bd5aed14c3db9860719aaf34d34": {
      "model_module": "@jupyter-widgets/base",
      "model_module_version": "1.2.0",
      "model_name": "LayoutModel",
      "state": {}
     },
     "70132b8352bc4ac4a46deccd1c7f29e1": {
      "model_module": "@jupyter-widgets/controls",
      "model_module_version": "1.5.0",
      "model_name": "TextModel",
      "state": {
       "description": "Label: ",
       "layout": "IPY_MODEL_89fa913d32d64a83aa8479a87e88eb53",
       "placeholder": "Ingresa ",
       "style": "IPY_MODEL_c9f1018415a04a3fab68e10e4326706e",
       "value": "Structure"
      }
     },
     "7034267e35014923a6f2b20b763920d3": {
      "model_module": "@jupyter-widgets/base",
      "model_module_version": "1.2.0",
      "model_name": "LayoutModel",
      "state": {}
     },
     "708c587077764429b587da5aad3ad73d": {
      "model_module": "@jupyter-widgets/controls",
      "model_module_version": "1.5.0",
      "model_name": "VBoxModel",
      "state": {
       "children": [
        "IPY_MODEL_d91dc489374149dbbbc1fd9cf6817423",
        "IPY_MODEL_767e349f93a54cf09af8c1123ee6454d",
        "IPY_MODEL_a8d6192441924c59b6c67ccc4d890e56",
        "IPY_MODEL_0bc72b31cead43968871e3cffcc14069",
        "IPY_MODEL_3920211c57894a3da73024b361e706db",
        "IPY_MODEL_ccea41819aed47d781ddf6b614ac2ccb"
       ],
       "layout": "IPY_MODEL_56de2ccbbd3347f5b6dc6208e92ade5f"
      }
     },
     "7094b76e0c6b43809a7868df5ed2c866": {
      "model_module": "@jupyter-widgets/controls",
      "model_module_version": "1.5.0",
      "model_name": "LabelModel",
      "state": {
       "layout": "IPY_MODEL_fb4819366b1e4e63a4944ea5391e6776",
       "style": "IPY_MODEL_e1a5db8af9304c58aa6f4b4a440df54a",
       "value": "Internal coordinate for Wurtzite structure: "
      }
     },
     "719f5db08b6f423c8ebc17b2fe533f7d": {
      "model_module": "@jupyter-widgets/base",
      "model_module_version": "1.2.0",
      "model_name": "LayoutModel",
      "state": {
       "align_items": "stretch",
       "border": "doted",
       "display": "flex",
       "flex_flow": "row",
       "width": "90%"
      }
     },
     "71e0d6150378412bbe6bb2cbd4a14ba6": {
      "model_module": "@jupyter-widgets/controls",
      "model_module_version": "1.5.0",
      "model_name": "ButtonModel",
      "state": {
       "button_style": "success",
       "description": "Generate structure",
       "layout": "IPY_MODEL_3664ec19df4549aebb606c978e70c96f",
       "style": "IPY_MODEL_9017c5b72bd24384af957562e2f38912"
      }
     },
     "724e72fee4f04fe68ab8a53fd078b2b7": {
      "model_module": "@jupyter-widgets/base",
      "model_module_version": "1.2.0",
      "model_name": "LayoutModel",
      "state": {}
     },
     "72e4e665f4ae4e969c5a6d1743737795": {
      "model_module": "@jupyter-widgets/base",
      "model_module_version": "1.2.0",
      "model_name": "LayoutModel",
      "state": {}
     },
     "735864dc27c649718a9523266b06257a": {
      "model_module": "@jupyter-widgets/controls",
      "model_module_version": "1.5.0",
      "model_name": "ButtonStyleModel",
      "state": {}
     },
     "735e27762d3b4816b080590e7851d6e9": {
      "model_module": "@jupyter-widgets/base",
      "model_module_version": "1.2.0",
      "model_name": "LayoutModel",
      "state": {}
     },
     "748a0a61d8e541e792d61e7042efb9a5": {
      "model_module": "@jupyter-widgets/controls",
      "model_module_version": "1.5.0",
      "model_name": "LabelModel",
      "state": {
       "layout": "IPY_MODEL_a8dd4169908d4524b3151ada08b07179",
       "style": "IPY_MODEL_62dfc14876964b6488dca397e306a67a",
       "value": "Carbon-hydrogen bond length (Angstrom): "
      }
     },
     "74a330ae68614ae7ad5421e61c10b2e8": {
      "model_module": "@jupyter-widgets/controls",
      "model_module_version": "1.5.0",
      "model_name": "LabelModel",
      "state": {
       "layout": "IPY_MODEL_d860bbf815a44d2dbd2d9c2110e6ca43",
       "style": "IPY_MODEL_b063c787c27f4327b1a0005c9eda2a48",
       "value": "Magnitude of magnetic moment if magnetic."
      }
     },
     "74fa724b7fe84fc9bfa39bd3c4ff4bfe": {
      "model_module": "@jupyter-widgets/base",
      "model_module_version": "1.2.0",
      "model_name": "LayoutModel",
      "state": {}
     },
     "767e349f93a54cf09af8c1123ee6454d": {
      "model_module": "@jupyter-widgets/controls",
      "model_module_version": "1.5.0",
      "model_name": "HBoxModel",
      "state": {
       "children": [
        "IPY_MODEL_088322f32104440c9abf1bb7458b5fa5",
        "IPY_MODEL_cd8ca647e52c40649958a8b6ab358029"
       ],
       "layout": "IPY_MODEL_5086e172580b46acbbc2a11b7bfa0a2d"
      }
     },
     "76f5cfb1d9b94f26946f4e9088dc6394": {
      "model_module": "@jupyter-widgets/controls",
      "model_module_version": "1.5.0",
      "model_name": "LabelModel",
      "state": {
       "layout": "IPY_MODEL_5e1327256c0e418084549a54547ea1d6",
       "style": "IPY_MODEL_8678c1298bdb4412b761f8a55874c96e",
       "value": "m value: The length of the nanoribbon."
      }
     },
     "7702dcc9449f41749841e2fdbb7a282f": {
      "model_module": "@jupyter-widgets/controls",
      "model_module_version": "1.5.0",
      "model_name": "DescriptionStyleModel",
      "state": {
       "description_width": ""
      }
     },
     "774971cfbb954363a8d352c24c7a9fbe": {
      "model_module": "@jupyter-widgets/base",
      "model_module_version": "1.2.0",
      "model_name": "LayoutModel",
      "state": {}
     },
     "77ed135aebf34c8f8dd86bf22efe3634": {
      "model_module": "@jupyter-widgets/base",
      "model_module_version": "1.2.0",
      "model_name": "LayoutModel",
      "state": {}
     },
     "78677613e0e54462844826308b268c7d": {
      "model_module": "@jupyter-widgets/controls",
      "model_module_version": "1.5.0",
      "model_name": "DescriptionStyleModel",
      "state": {
       "description_width": ""
      }
     },
     "79d3634e1a064d76a063b97626a4ee33": {
      "model_module": "@jupyter-widgets/controls",
      "model_module_version": "1.5.0",
      "model_name": "DescriptionStyleModel",
      "state": {
       "description_width": ""
      }
     },
     "79eaddd3de5a42bc833cbf5252302cc9": {
      "model_module": "@jupyter-widgets/base",
      "model_module_version": "1.2.0",
      "model_name": "LayoutModel",
      "state": {}
     },
     "7a3680d3b45b46d3ba135abfcb2e2f01": {
      "model_module": "@jupyter-widgets/base",
      "model_module_version": "1.2.0",
      "model_name": "LayoutModel",
      "state": {
       "align_items": "stretch",
       "border": "doted",
       "display": "flex",
       "flex_flow": "row",
       "width": "90%"
      }
     },
     "7b525702319b4ec5b1607b0876ba2de1": {
      "model_module": "@jupyter-widgets/controls",
      "model_module_version": "1.5.0",
      "model_name": "DescriptionStyleModel",
      "state": {
       "description_width": ""
      }
     },
     "7b8d185b8368445ab9add5c7f467b110": {
      "model_module": "@jupyter-widgets/base",
      "model_module_version": "1.2.0",
      "model_name": "LayoutModel",
      "state": {
       "height": "25px",
       "width": "70px"
      }
     },
     "7bb76a6ee4dc41bd9cfaa050abccb540": {
      "model_module": "@jupyter-widgets/base",
      "model_module_version": "1.2.0",
      "model_name": "LayoutModel",
      "state": {
       "align_items": "stretch",
       "border": "doted",
       "display": "flex",
       "flex_flow": "row",
       "width": "90%"
      }
     },
     "7c15b9d58b624ae3af9f8ec6fb2f4cf6": {
      "model_module": "@jupyter-widgets/base",
      "model_module_version": "1.2.0",
      "model_name": "LayoutModel",
      "state": {}
     },
     "7c3522e5235f49808fa21fe8f19875dc": {
      "model_module": "@jupyter-widgets/controls",
      "model_module_version": "1.5.0",
      "model_name": "ButtonModel",
      "state": {
       "description": "Select",
       "layout": "IPY_MODEL_c51e2ffa97ca4cff8c61bbd8f7f6d067",
       "style": "IPY_MODEL_eac72a6631964d008f7f3385d9ba7386"
      }
     },
     "7c84a72f4aaf4c5f9ed58cfbfef45d13": {
      "model_module": "@jupyter-widgets/controls",
      "model_module_version": "1.5.0",
      "model_name": "DropdownModel",
      "state": {
       "_options_labels": [
        "Py3Dmol",
        "NGLviewer"
       ],
       "index": 0,
       "layout": "IPY_MODEL_98b6d7db28ff4c8180a8522c6d285d6d",
       "style": "IPY_MODEL_cd908adb7b52414fa647a27dcc0e3bb6"
      }
     },
     "7c9d54e0c52a46158f32dfd1568aa6a1": {
      "model_module": "@jupyter-widgets/base",
      "model_module_version": "1.2.0",
      "model_name": "LayoutModel",
      "state": {
       "align_items": "stretch",
       "border": "doted",
       "display": "flex",
       "flex_flow": "row",
       "width": "90%"
      }
     },
     "7cd64e0ef09e41c0bfb0023b095fa3f3": {
      "model_module": "@jupyter-widgets/controls",
      "model_module_version": "1.5.0",
      "model_name": "HTMLModel",
      "state": {
       "layout": "IPY_MODEL_11e3ded182724ef59c0a5fd0443ec728",
       "placeholder": "",
       "style": "IPY_MODEL_3ce9de768e864df69b092efed91d8bf4",
       "value": "<span style=\"color:black;\">No selection</span>"
      }
     },
     "7d197a02e1524bc4b80837a00f7822f1": {
      "model_module": "@jupyter-widgets/controls",
      "model_module_version": "1.5.0",
      "model_name": "BoundedIntTextModel",
      "state": {
       "layout": "IPY_MODEL_e819a44ae73948cfa5adfa81738b79c5",
       "max": 2000,
       "style": "IPY_MODEL_1bb3866fe1c44845b66322036d73ffd2",
       "value": 1
      }
     },
     "7d5c3a2251934c7580264fa385dfa060": {
      "model_module": "@jupyter-widgets/controls",
      "model_module_version": "1.5.0",
      "model_name": "LabelModel",
      "state": {
       "layout": "IPY_MODEL_3560306256354d2b8242438ca21664b4",
       "style": "IPY_MODEL_039478a7b03a42a2a774556a1049310c",
       "value": "n value: "
      }
     },
     "7dde0a4b58cd4a0180a26077d1ea579d": {
      "model_module": "@jupyter-widgets/controls",
      "model_module_version": "1.5.0",
      "model_name": "DescriptionStyleModel",
      "state": {
       "description_width": ""
      }
     },
     "7dde42acef434eff948231a564bf5629": {
      "model_module": "@jupyter-widgets/base",
      "model_module_version": "1.2.0",
      "model_name": "LayoutModel",
      "state": {}
     },
     "7eb8ea7bb50c4a9f88d4805621b4d3a7": {
      "model_module": "@jupyter-widgets/base",
      "model_module_version": "1.2.0",
      "model_name": "LayoutModel",
      "state": {
       "width": "max-content"
      }
     },
     "7ef29315d6894b588070da940284d58f": {
      "model_module": "@jupyter-widgets/base",
      "model_module_version": "1.2.0",
      "model_name": "LayoutModel",
      "state": {
       "height": "25px",
       "width": "150px"
      }
     },
     "7ff4a7f30caa4e0187db2a0088229487": {
      "model_module": "@jupyter-widgets/base",
      "model_module_version": "1.2.0",
      "model_name": "LayoutModel",
      "state": {
       "width": "max-content"
      }
     },
     "804ba88cda6242eea897ee387ac22109": {
      "model_module": "@jupyter-widgets/controls",
      "model_module_version": "1.5.0",
      "model_name": "DescriptionStyleModel",
      "state": {
       "description_width": ""
      }
     },
     "804f318c372e4e4baf96a4bfd72c85b1": {
      "model_module": "@jupyter-widgets/controls",
      "model_module_version": "1.5.0",
      "model_name": "DescriptionStyleModel",
      "state": {
       "description_width": ""
      }
     },
     "80ca16456d644899b3932996a21e7537": {
      "model_module": "@jupyter-widgets/controls",
      "model_module_version": "1.5.0",
      "model_name": "DescriptionStyleModel",
      "state": {
       "description_width": ""
      }
     },
     "8180bc1b1fef4c91b6aaa58728f98147": {
      "model_module": "@jupyter-widgets/output",
      "model_module_version": "1.0.0",
      "model_name": "OutputModel",
      "state": {
       "layout": "IPY_MODEL_315ab507cab64c2ca846d384398b116d",
       "outputs": [
        {
         "data": {
          "application/vnd.jupyter.widget-view+json": {
           "model_id": "f52cc7668ab14542ba64ae5c7dd2c766",
           "version_major": 2,
           "version_minor": 0
          },
          "text/plain": "Image(value=b'\\x89PNG\\r\\n\\x1a\\n\\x00\\x00\\x00\\rIHDR\\x00\\x00\\x01\\xff\\x00\\x00\\x01.\\x08\\x06\\x00\\x00\\x00\\x80\\x93\\x1b…"
         },
         "metadata": {},
         "output_type": "display_data"
        },
        {
         "data": {
          "application/vnd.jupyter.widget-view+json": {
           "model_id": "9a55c13118394e109fcd710ab5a9cf3b",
           "version_major": 2,
           "version_minor": 0
          },
          "text/plain": "Accordion(children=(VBox(children=(HBox(children=(FileUpload(value={}, accept='*.cif', description='Upload'), …"
         },
         "metadata": {},
         "output_type": "display_data"
        }
       ]
      }
     },
     "8187ed1c2632493992b3082d487cc0dd": {
      "model_module": "@jupyter-widgets/base",
      "model_module_version": "1.2.0",
      "model_name": "LayoutModel",
      "state": {}
     },
     "81c07d88774c423db32023defea31f3c": {
      "model_module": "@jupyter-widgets/base",
      "model_module_version": "1.2.0",
      "model_name": "LayoutModel",
      "state": {}
     },
     "8327686fdb184276967c95162e324dfc": {
      "model_module": "@jupyter-widgets/controls",
      "model_module_version": "1.5.0",
      "model_name": "HBoxModel",
      "state": {
       "children": [
        "IPY_MODEL_60e5193294af4befba8c18ecb4c67d7b",
        "IPY_MODEL_7c84a72f4aaf4c5f9ed58cfbfef45d13"
       ],
       "layout": "IPY_MODEL_9577cd490a2240d29345696293094398"
      }
     },
     "83cfff2a53b4482aacfbed8be31d5999": {
      "model_module": "@jupyter-widgets/controls",
      "model_module_version": "1.5.0",
      "model_name": "HBoxModel",
      "state": {
       "children": [
        "IPY_MODEL_24e5bdce077942d7a5f94b0874fa9aec"
       ],
       "layout": "IPY_MODEL_322667a7e34640ca97ef8204e2318cd3"
      }
     },
     "843ba43ed4114105bd189242fd6806b4": {
      "model_module": "@jupyter-widgets/base",
      "model_module_version": "1.2.0",
      "model_name": "LayoutModel",
      "state": {}
     },
     "8470a6445b724183a579e03f628562d1": {
      "model_module": "@jupyter-widgets/controls",
      "model_module_version": "1.5.0",
      "model_name": "HBoxModel",
      "state": {
       "children": [
        "IPY_MODEL_d528382cebe94e1bb1189da18a0eb35a",
        "IPY_MODEL_174872704409460595443845b981ffc6"
       ],
       "layout": "IPY_MODEL_256e890dad2443c8a45d1cd01a1475ed"
      }
     },
     "858b17ec0f354f8395fc94364eccfb13": {
      "model_module": "@jupyter-widgets/base",
      "model_module_version": "1.2.0",
      "model_name": "LayoutModel",
      "state": {
       "width": "max-content"
      }
     },
     "85cffd99e9e34b7a9829250779a28594": {
      "model_module": "@jupyter-widgets/controls",
      "model_module_version": "1.5.0",
      "model_name": "DescriptionStyleModel",
      "state": {
       "description_width": ""
      }
     },
     "8613d78fc1904423a197916e57b924eb": {
      "model_module": "@jupyter-widgets/controls",
      "model_module_version": "1.5.0",
      "model_name": "HBoxModel",
      "state": {
       "children": [
        "IPY_MODEL_58768a05b5294fec926de7094e83869e",
        "IPY_MODEL_bbc32d82ca8f49af88385e06e4c4e222"
       ],
       "layout": "IPY_MODEL_68c65bc884ca44f78cc5f32c74dc0324"
      }
     },
     "8678c1298bdb4412b761f8a55874c96e": {
      "model_module": "@jupyter-widgets/controls",
      "model_module_version": "1.5.0",
      "model_name": "DescriptionStyleModel",
      "state": {
       "description_width": ""
      }
     },
     "8800eb739f1e4bfd84658d4bccca8700": {
      "model_module": "@jupyter-widgets/base",
      "model_module_version": "1.2.0",
      "model_name": "LayoutModel",
      "state": {
       "height": "25px",
       "width": "70px"
      }
     },
     "893788f181ef4d22b406a4584063fc4b": {
      "model_module": "@jupyter-widgets/base",
      "model_module_version": "1.2.0",
      "model_name": "LayoutModel",
      "state": {
       "align_items": "stretch",
       "border": "doted",
       "display": "flex",
       "flex_flow": "row",
       "width": "90%"
      }
     },
     "898937b8216c484b84bbe534ca12e32f": {
      "model_module": "@jupyter-widgets/controls",
      "model_module_version": "1.5.0",
      "model_name": "LabelModel",
      "state": {
       "layout": "IPY_MODEL_774971cfbb954363a8d352c24c7a9fbe",
       "style": "IPY_MODEL_0df0fe689cf5496092c6f98c3aa9aba5",
       "value": "Lattice constant b. If only a and b is given, b will be interpreted as c instead: "
      }
     },
     "89fa913d32d64a83aa8479a87e88eb53": {
      "model_module": "@jupyter-widgets/base",
      "model_module_version": "1.2.0",
      "model_name": "LayoutModel",
      "state": {
       "height": "25px",
       "width": "450px"
      }
     },
     "8a1077e489aa498094a5170741dea5dc": {
      "model_module": "@jupyter-widgets/controls",
      "model_module_version": "1.5.0",
      "model_name": "DescriptionStyleModel",
      "state": {
       "description_width": ""
      }
     },
     "8aeb45af17374f0b96503f7d9295bb02": {
      "model_module": "@jupyter-widgets/controls",
      "model_module_version": "1.5.0",
      "model_name": "DescriptionStyleModel",
      "state": {
       "description_width": ""
      }
     },
     "8b2d4617cd484e96b8181c5e24be6f63": {
      "model_module": "@jupyter-widgets/controls",
      "model_module_version": "1.5.0",
      "model_name": "HBoxModel",
      "state": {
       "children": [
        "IPY_MODEL_d75d2666855d476e87683beaac107bdd",
        "IPY_MODEL_d119b714960a40b08c4072bf526b180f"
       ],
       "layout": "IPY_MODEL_74fa724b7fe84fc9bfa39bd3c4ff4bfe"
      }
     },
     "8cd461a6b3424f61b8f48f531731edc7": {
      "model_module": "@jupyter-widgets/base",
      "model_module_version": "1.2.0",
      "model_name": "LayoutModel",
      "state": {
       "width": "500px"
      }
     },
     "8d84f8b69caa4c0fbe92b13e9cc58877": {
      "model_module": "@jupyter-widgets/base",
      "model_module_version": "1.2.0",
      "model_name": "LayoutModel",
      "state": {}
     },
     "8e0a126b40bc469c9e791beaa4e09622": {
      "model_module": "@jupyter-widgets/controls",
      "model_module_version": "1.5.0",
      "model_name": "TextModel",
      "state": {
       "layout": "IPY_MODEL_b88fc8988629486cb9d6e8b84c70cac7",
       "placeholder": "Ingresa ",
       "style": "IPY_MODEL_2c0adcc65db8493b91fc81c287fcd703",
       "value": "None"
      }
     },
     "8eb4229786ee4f2da2d146d517d45f85": {
      "model_module": "@jupyter-widgets/base",
      "model_module_version": "1.2.0",
      "model_name": "LayoutModel",
      "state": {
       "align_items": "stretch",
       "border": "doted",
       "display": "flex",
       "flex_flow": "row",
       "width": "90%"
      }
     },
     "8f714e59348a4cbc9edf376e1d8a6b09": {
      "model_module": "@jupyter-widgets/base",
      "model_module_version": "1.2.0",
      "model_name": "LayoutModel",
      "state": {
       "height": "25px",
       "width": "70px"
      }
     },
     "8fd51eecfcc241ecaadee5ef0f1e9516": {
      "model_module": "@jupyter-widgets/controls",
      "model_module_version": "1.5.0",
      "model_name": "LabelModel",
      "state": {
       "layout": "IPY_MODEL_da3b4faf0b054a60b075e8ab20acaac9",
       "style": "IPY_MODEL_ba30ad9121604135845e6fa92267d8d9",
       "value": "bond value: "
      }
     },
     "9017c5b72bd24384af957562e2f38912": {
      "model_module": "@jupyter-widgets/controls",
      "model_module_version": "1.5.0",
      "model_name": "ButtonStyleModel",
      "state": {}
     },
     "90efad1dc3f64093ba64a5970b5647c2": {
      "model_module": "@jupyter-widgets/controls",
      "model_module_version": "1.5.0",
      "model_name": "FloatTextModel",
      "state": {
       "layout": "IPY_MODEL_7b8d185b8368445ab9add5c7f467b110",
       "step": null,
       "style": "IPY_MODEL_0860aff126724f23b7152614e98e6e79",
       "value": 1
      }
     },
     "918b4f7fb6e24d008b593c30ae0a9276": {
      "model_module": "@jupyter-widgets/controls",
      "model_module_version": "1.5.0",
      "model_name": "DescriptionStyleModel",
      "state": {
       "description_width": ""
      }
     },
     "91d20e3f2f924d43bfff9f3898e6de75": {
      "model_module": "@jupyter-widgets/controls",
      "model_module_version": "1.5.0",
      "model_name": "LabelModel",
      "state": {
       "layout": "IPY_MODEL_fb0404a46c454befac74487e9c2e26b6",
       "style": "IPY_MODEL_b915ad4e783849699e6469e1a1fad9d8",
       "value": "length value: "
      }
     },
     "91f4d9afbd574808989aa84f9b708507": {
      "model_module": "@jupyter-widgets/base",
      "model_module_version": "1.2.0",
      "model_name": "LayoutModel",
      "state": {}
     },
     "9203c250d64341f4a66ee2d8ecb62b9a": {
      "model_module": "@jupyter-widgets/base",
      "model_module_version": "1.2.0",
      "model_name": "LayoutModel",
      "state": {
       "align_items": "stretch",
       "border": "doted",
       "display": "flex",
       "flex_flow": "row",
       "width": "90%"
      }
     },
     "925691452fca4267b68d51fd44adef8e": {
      "model_module": "@jupyter-widgets/controls",
      "model_module_version": "1.5.0",
      "model_name": "HTMLModel",
      "state": {
       "layout": "IPY_MODEL_faed4978fd4b4e1fab1b2a3e7a52ccc7",
       "style": "IPY_MODEL_8aeb45af17374f0b96503f7d9295bb02",
       "value": "Crystal structure and lattice constant(s) will be guessed if not provided"
      }
     },
     "929504827fc941f38812500d655aaccc": {
      "model_module": "@jupyter-widgets/base",
      "model_module_version": "1.2.0",
      "model_name": "LayoutModel",
      "state": {
       "align_items": "stretch",
       "border": "doted",
       "display": "flex",
       "flex_flow": "row",
       "width": "90%"
      }
     },
     "931ef7a040764320986407162b289d3a": {
      "model_module": "@jupyter-widgets/controls",
      "model_module_version": "1.5.0",
      "model_name": "ButtonStyleModel",
      "state": {}
     },
     "9327e39c82754daeb98f63cd55cc9849": {
      "model_module": "@jupyter-widgets/controls",
      "model_module_version": "1.5.0",
      "model_name": "DropdownModel",
      "state": {
       "_options_labels": [
        "PH3",
        "P2",
        "CH3CHO",
        "H2COH",
        "CS",
        "OCHCHO",
        "C3H9C",
        "CH3COF",
        "CH3CH2OCH3",
        "HCOOH",
        "HCCl3",
        "HOCl",
        "H2",
        "SH2",
        "C2H2",
        "C4H4NH",
        "CH3SCH3",
        "SiH2_s3B1d",
        "CH3SH",
        "CH3CO",
        "CO",
        "ClF3",
        "SiH4",
        "C2H6CHOH",
        "CH2NHCH2",
        "isobutene",
        "HCO",
        "bicyclobutane",
        "LiF",
        "Si",
        "C2H6",
        "CN",
        "ClNO",
        "S",
        "SiF4",
        "H3CNH2",
        "methylenecyclopropane",
        "CH3CH2OH",
        "F",
        "NaCl",
        "CH3Cl",
        "CH3SiH3",
        "AlF3",
        "C2H3",
        "ClF",
        "PF3",
        "PH2",
        "CH3CN",
        "cyclobutene",
        "CH3ONO",
        "SiH3",
        "C3H6_D3h",
        "CO2",
        "NO",
        "trans-butane",
        "H2CCHCl",
        "LiH",
        "NH2",
        "CH",
        "CH2OCH2",
        "C6H6",
        "CH3CONH2",
        "cyclobutane",
        "H2CCHCN",
        "butadiene",
        "C",
        "H2CO",
        "CH3COOH",
        "HCF3",
        "CH3S",
        "CS2",
        "SiH2_s1A1d",
        "C4H4S",
        "N2H4",
        "OH",
        "CH3OCH3",
        "C5H5N",
        "H2O",
        "HCl",
        "CH2_s1A1d",
        "CH3CH2SH",
        "CH3NO2",
        "Cl",
        "Be",
        "BCl3",
        "C4H4O",
        "Al",
        "CH3O",
        "CH3OH",
        "C3H7Cl",
        "isobutane",
        "Na",
        "CCl4",
        "CH3CH2O",
        "H2CCHF",
        "C3H7",
        "CH3",
        "O3",
        "P",
        "C2H4",
        "NCCN",
        "S2",
        "AlCl3",
        "SiCl4",
        "SiO",
        "C3H4_D2d",
        "H",
        "COF2",
        "2-butyne",
        "C2H5",
        "BF3",
        "N2O",
        "F2O",
        "SO2",
        "H2CCl2",
        "CF3CN",
        "HCN",
        "C2H6NH",
        "OCS",
        "B",
        "ClO",
        "C3H8",
        "HF",
        "O2",
        "SO",
        "NH",
        "C2F4",
        "NF3",
        "CH2_s3B1d",
        "CH3CH2Cl",
        "CH3COCl",
        "NH3",
        "C3H9N",
        "CF4",
        "C3H6_Cs",
        "Si2H6",
        "HCOOCH3",
        "O",
        "CCH",
        "N",
        "Si2",
        "C2H6SO",
        "C5H8",
        "H2CF2",
        "Li2",
        "CH2SCH2",
        "C2Cl4",
        "C3H4_C3v",
        "CH3COCH3",
        "F2",
        "CH4",
        "SH",
        "H2CCO",
        "CH3CH2NH2",
        "Li",
        "N2",
        "Cl2",
        "H2O2",
        "Na2",
        "BeH",
        "C3H4_C2v",
        "NO2"
       ],
       "index": 106,
       "layout": "IPY_MODEL_eb9a255b30d940a587931b014c9aecb5",
       "style": "IPY_MODEL_cae13dbf9ba84b7b9d7a2612cc417a30"
      }
     },
     "93fc0a33fb0d459f92954fd1554e1daf": {
      "model_module": "@jupyter-widgets/controls",
      "model_module_version": "1.5.0",
      "model_name": "ButtonStyleModel",
      "state": {}
     },
     "941f97d3f84144ac9976441b2c3bca5a": {
      "model_module": "@jupyter-widgets/controls",
      "model_module_version": "1.5.0",
      "model_name": "VBoxModel",
      "state": {
       "children": [
        "IPY_MODEL_d6489095e562446e8634700c3fec3d75",
        "IPY_MODEL_61b7823b88a34295a5e383ecce546541"
       ],
       "layout": "IPY_MODEL_8d84f8b69caa4c0fbe92b13e9cc58877"
      }
     },
     "94b943efe9754efc917ab964567317bf": {
      "model_module": "@jupyter-widgets/controls",
      "model_module_version": "1.5.0",
      "model_name": "TextModel",
      "state": {
       "layout": "IPY_MODEL_10d6b072a573448dbdddaa32e77aeeba",
       "placeholder": "Ingresa ",
       "style": "IPY_MODEL_3076e083d15049b5b47c234bb81ad7bc",
       "value": "C"
      }
     },
     "9507e488de60426dae8e323151c3bb14": {
      "model_module": "@jupyter-widgets/controls",
      "model_module_version": "1.5.0",
      "model_name": "DescriptionStyleModel",
      "state": {
       "description_width": ""
      }
     },
     "9577cd490a2240d29345696293094398": {
      "model_module": "@jupyter-widgets/base",
      "model_module_version": "1.2.0",
      "model_name": "LayoutModel",
      "state": {}
     },
     "96f0234a9fba4661a70ca6f6a22f401d": {
      "model_module": "@jupyter-widgets/controls",
      "model_module_version": "1.5.0",
      "model_name": "HTMLModel",
      "state": {
       "layout": "IPY_MODEL_72e4e665f4ae4e969c5a6d1743737795",
       "style": "IPY_MODEL_54d9e23e98024aa58aea425c75e96fba",
       "value": "<b> Structure</b>"
      }
     },
     "970443014f214ea1ac093695edc3e6a3": {
      "model_module": "@jupyter-widgets/base",
      "model_module_version": "1.2.0",
      "model_name": "LayoutModel",
      "state": {}
     },
     "971038c1a24644858c7d10697246a7af": {
      "model_module": "@jupyter-widgets/controls",
      "model_module_version": "1.5.0",
      "model_name": "ToggleButtonModel",
      "state": {
       "description": "Orthorhombic ",
       "layout": "IPY_MODEL_0dc8c32cfa6d45f39bf1b45ac010116e",
       "style": "IPY_MODEL_918b4f7fb6e24d008b593c30ae0a9276",
       "tooltip": "Construct orthorhombic unit cell instead of primitive cell which is the default"
      }
     },
     "973697bc09004d54bb01b30a1948dccb": {
      "model_module": "@jupyter-widgets/base",
      "model_module_version": "1.2.0",
      "model_name": "LayoutModel",
      "state": {
       "align_items": "stretch",
       "border": "doted",
       "display": "flex",
       "flex_flow": "row",
       "width": "90%"
      }
     },
     "98b6d7db28ff4c8180a8522c6d285d6d": {
      "model_module": "@jupyter-widgets/base",
      "model_module_version": "1.2.0",
      "model_name": "LayoutModel",
      "state": {
       "height": "25px",
       "width": "70px"
      }
     },
     "98fc86f05d88401f8ab48d8e9ade108b": {
      "model_module": "@jupyter-widgets/controls",
      "model_module_version": "1.5.0",
      "model_name": "AccordionModel",
      "state": {
       "_titles": {
        "0": "Molecules",
        "1": "Creating bulk systems",
        "2": "Creating Nanotube with buckling",
        "3": "Creating Nanotube without buckling",
        "4": "Creating Graphene nanoribons"
       },
       "children": [
        "IPY_MODEL_2af210a767db47efa11087479c5e1981",
        "IPY_MODEL_a168510eb39948d0bde0536d3f61274b",
        "IPY_MODEL_708c587077764429b587da5aad3ad73d",
        "IPY_MODEL_b1adc63ac3e34db28b75ca29939b5bcd",
        "IPY_MODEL_2c66a44f1ff64ba2a1baf72becd38086"
       ],
       "layout": "IPY_MODEL_a9d805c5bd3d49959dde6479827f9c47"
      }
     },
     "995eb96be6184e19a499b134af9f05ec": {
      "model_module": "@jupyter-widgets/controls",
      "model_module_version": "1.5.0",
      "model_name": "DescriptionStyleModel",
      "state": {
       "description_width": ""
      }
     },
     "99774088043547c498aa2cd474953452": {
      "model_module": "@jupyter-widgets/base",
      "model_module_version": "1.2.0",
      "model_name": "LayoutModel",
      "state": {
       "height": "25px",
       "width": "70px"
      }
     },
     "99fd1912740c4976a1bbd940e36366ba": {
      "model_module": "@jupyter-widgets/controls",
      "model_module_version": "1.5.0",
      "model_name": "HBoxModel",
      "state": {
       "children": [
        "IPY_MODEL_429f4f97eb404b73b8b2711d3eb12813",
        "IPY_MODEL_244240047a994cfeb221ab68a9ab878e"
       ],
       "layout": "IPY_MODEL_2a4c037356a84a08b2c68e15f06d5e63"
      }
     },
     "9a55c13118394e109fcd710ab5a9cf3b": {
      "model_module": "@jupyter-widgets/controls",
      "model_module_version": "1.5.0",
      "model_name": "AccordionModel",
      "state": {
       "_titles": {
        "0": "Upload file",
        "1": "Create structure manually",
        "2": "Predefined structures",
        "3": "Load created structures"
       },
       "children": [
        "IPY_MODEL_ec2e9bfb5cf34cce9d0b1e8a64ef3cd7",
        "IPY_MODEL_941f97d3f84144ac9976441b2c3bca5a",
        "IPY_MODEL_98fc86f05d88401f8ab48d8e9ade108b",
        "IPY_MODEL_63588b8dfd62426295e6485425d623c3"
       ],
       "layout": "IPY_MODEL_486013eccea44f9ca36f93a60b198613"
      }
     },
     "9aec0b579b5340809df51b7d55630ad1": {
      "model_module": "@jupyter-widgets/controls",
      "model_module_version": "1.5.0",
      "model_name": "LabelModel",
      "state": {
       "layout": "IPY_MODEL_4d7e6fc780f84256a816470946002f35",
       "style": "IPY_MODEL_9507e488de60426dae8e323151c3bb14",
       "value": "Vacumm value: "
      }
     },
     "9b737bc331a44cb98601fdb0caefa791": {
      "model_module": "@jupyter-widgets/controls",
      "model_module_version": "1.5.0",
      "model_name": "VBoxModel",
      "state": {
       "children": [
        "IPY_MODEL_8327686fdb184276967c95162e324dfc",
        "IPY_MODEL_17cf2a63bc224c90b90a02fd177b3493"
       ],
       "layout": "IPY_MODEL_d56562556b8b4141ab0166dd085f8a5e"
      }
     },
     "9b7fe47eeea44e47b4415cac16b229c8": {
      "model_module": "@jupyter-widgets/base",
      "model_module_version": "1.2.0",
      "model_name": "LayoutModel",
      "state": {
       "height": "25px",
       "width": "150px"
      }
     },
     "9bcffb2c85a54a9cb4c85b424d52f8e8": {
      "model_module": "@jupyter-widgets/controls",
      "model_module_version": "1.5.0",
      "model_name": "TextModel",
      "state": {
       "layout": "IPY_MODEL_b62cc169e2d349c488ac184ff6b9d503",
       "placeholder": "Ingresa ",
       "style": "IPY_MODEL_d3468d70557048d7ad19515c9bf3f704",
       "value": "None"
      }
     },
     "9c0c6aecbbdd434bb0756ba638ba68e6": {
      "model_module": "@jupyter-widgets/controls",
      "model_module_version": "1.5.0",
      "model_name": "HBoxModel",
      "state": {
       "children": [
        "IPY_MODEL_74a330ae68614ae7ad5421e61c10b2e8",
        "IPY_MODEL_a806936a89d440db84b03a45b0d15b26"
       ],
       "layout": "IPY_MODEL_7dde42acef434eff948231a564bf5629"
      }
     },
     "9ccba196cc19452c9ca85490effc0710": {
      "model_module": "@jupyter-widgets/controls",
      "model_module_version": "1.5.0",
      "model_name": "DescriptionStyleModel",
      "state": {
       "description_width": ""
      }
     },
     "9cdd7d25e5d74b1db3e7e6e07c08b37e": {
      "model_module": "@jupyter-widgets/base",
      "model_module_version": "1.2.0",
      "model_name": "LayoutModel",
      "state": {}
     },
     "9e3ec48520ba4ffd83ecb224c2106442": {
      "model_module": "@jupyter-widgets/controls",
      "model_module_version": "1.5.0",
      "model_name": "HBoxModel",
      "state": {
       "children": [
        "IPY_MODEL_7d5c3a2251934c7580264fa385dfa060",
        "IPY_MODEL_19a36a8346094b4e834d12142e79066b"
       ],
       "layout": "IPY_MODEL_501c9eba932a42dcb184b6a2d1503913"
      }
     },
     "9e53d1d1c2844e559bd6215602a607c3": {
      "model_module": "@jupyter-widgets/base",
      "model_module_version": "1.2.0",
      "model_name": "LayoutModel",
      "state": {
       "height": "20px",
       "width": "50px"
      }
     },
     "9f012c65e0a2426ba3d2ecdb880a4ba8": {
      "model_module": "@jupyter-widgets/base",
      "model_module_version": "1.2.0",
      "model_name": "LayoutModel",
      "state": {
       "height": "25px",
       "width": "150px"
      }
     },
     "9f6a23c8a88546738191d346029ce070": {
      "model_module": "@jupyter-widgets/controls",
      "model_module_version": "1.5.0",
      "model_name": "HBoxModel",
      "state": {
       "children": [
        "IPY_MODEL_0a0ee9265ee84f0da5611993d3610dd2",
        "IPY_MODEL_d945e95f18ea47a894395e3a7d0d7201"
       ],
       "layout": "IPY_MODEL_077d08dc6ad4441fbd5ab02960139421"
      }
     },
     "9fb79bc0bdf64025ad878b5758d5dd5f": {
      "model_module": "@jupyter-widgets/controls",
      "model_module_version": "1.5.0",
      "model_name": "DescriptionStyleModel",
      "state": {
       "description_width": ""
      }
     },
     "a0cdf467b38149628974f95775fb1874": {
      "model_module": "@jupyter-widgets/controls",
      "model_module_version": "1.5.0",
      "model_name": "HBoxModel",
      "state": {
       "children": [
        "IPY_MODEL_7094b76e0c6b43809a7868df5ed2c866",
        "IPY_MODEL_2319753994fc433ea59c97f305552f51"
       ],
       "layout": "IPY_MODEL_2cb9945614a04473a90ec16f46a6a3a0"
      }
     },
     "a168510eb39948d0bde0536d3f61274b": {
      "model_module": "@jupyter-widgets/controls",
      "model_module_version": "1.5.0",
      "model_name": "VBoxModel",
      "state": {
       "children": [
        "IPY_MODEL_925691452fca4267b68d51fd44adef8e",
        "IPY_MODEL_ccbefee2aec94ea2a1a56f05d1fa03a8",
        "IPY_MODEL_8470a6445b724183a579e03f628562d1",
        "IPY_MODEL_4c5b6e88010d4ec69c88f46542e5d412",
        "IPY_MODEL_10a527fedd4846aea8b9ba27f368d656",
        "IPY_MODEL_8613d78fc1904423a197916e57b924eb",
        "IPY_MODEL_99fd1912740c4976a1bbd940e36366ba",
        "IPY_MODEL_1729fa9eebc64b3ea1a5594211b8e623",
        "IPY_MODEL_a0cdf467b38149628974f95775fb1874",
        "IPY_MODEL_971038c1a24644858c7d10697246a7af",
        "IPY_MODEL_654c161783ba4e89afc6699f8fd02e63",
        "IPY_MODEL_523e080ac3e54ea6898f00d6620463e8"
       ],
       "layout": "IPY_MODEL_7eb8ea7bb50c4a9f88d4805621b4d3a7"
      }
     },
     "a17b260d14f743688e75855348204c1a": {
      "model_module": "@jupyter-widgets/base",
      "model_module_version": "1.2.0",
      "model_name": "LayoutModel",
      "state": {
       "align_items": "stretch",
       "border": "doted",
       "display": "flex",
       "flex_flow": "row",
       "width": "90%"
      }
     },
     "a24cb8c4f8cc48c18f4ef104aeb5d587": {
      "model_module": "@jupyter-widgets/controls",
      "model_module_version": "1.5.0",
      "model_name": "GridBoxModel",
      "state": {
       "children": [
        "IPY_MODEL_9b737bc331a44cb98601fdb0caefa791",
        "IPY_MODEL_fda56f3de5f04bbb901121f7c9a2f96c"
       ],
       "layout": "IPY_MODEL_b2d80caa017a44caab9a595d633ae09a"
      }
     },
     "a2840a6648474898b4d0818658652f2d": {
      "model_module": "@jupyter-widgets/controls",
      "model_module_version": "1.5.0",
      "model_name": "LabelModel",
      "state": {
       "layout": "IPY_MODEL_63d8c5c95eea4273a1ec0ca7a2380586",
       "style": "IPY_MODEL_cbe5337ce4604a28b343a735dd910fea",
       "value": "Chemical symbol or symbols as in \"MgO\" or \"NaCl\": "
      }
     },
     "a2c3959c393c40c2ae20e57bfe140707": {
      "model_module": "@jupyter-widgets/controls",
      "model_module_version": "1.5.0",
      "model_name": "TextModel",
      "state": {
       "layout": "IPY_MODEL_375af0a34c49464d98c17ae2dba7bf16",
       "placeholder": "Ingresa ",
       "style": "IPY_MODEL_409a39e238ba41919f9ee98f71a00226",
       "value": "None"
      }
     },
     "a2df8890342541cc9b527f2b223c525f": {
      "model_module": "@jupyter-widgets/base",
      "model_module_version": "1.2.0",
      "model_name": "LayoutModel",
      "state": {}
     },
     "a418ee70fc1d4c5697633470466ca932": {
      "model_module": "@jupyter-widgets/controls",
      "model_module_version": "1.5.0",
      "model_name": "ButtonModel",
      "state": {
       "button_style": "success",
       "description": "Generate structure",
       "layout": "IPY_MODEL_388f68fe6fc74731918b1fab2e18879c",
       "style": "IPY_MODEL_93fc0a33fb0d459f92954fd1554e1daf"
      }
     },
     "a441f1444ef14af090106c05fd225648": {
      "model_module": "@jupyter-widgets/base",
      "model_module_version": "1.2.0",
      "model_name": "LayoutModel",
      "state": {
       "align_items": "stretch",
       "border": "doted",
       "display": "flex",
       "flex_flow": "row",
       "width": "90%"
      }
     },
     "a51e2ee9f6624d14b62ac3f40b52dffe": {
      "model_module": "@jupyter-widgets/output",
      "model_module_version": "1.0.0",
      "model_name": "OutputModel",
      "state": {
       "layout": "IPY_MODEL_315ab507cab64c2ca846d384398b116d"
      }
     },
     "a54b7f96524e4f5b858af2d7184062da": {
      "model_module": "@jupyter-widgets/base",
      "model_module_version": "1.2.0",
      "model_name": "LayoutModel",
      "state": {
       "align_items": "stretch",
       "border": "doted",
       "display": "flex",
       "flex_flow": "row",
       "width": "90%"
      }
     },
     "a556b6063f764f6b862a57982c36c2b5": {
      "model_module": "@jupyter-widgets/base",
      "model_module_version": "1.2.0",
      "model_name": "LayoutModel",
      "state": {
       "height": "25px",
       "width": "70px"
      }
     },
     "a55e14bb6b364894a92ce9cbc8b2dd42": {
      "model_module": "@jupyter-widgets/base",
      "model_module_version": "1.2.0",
      "model_name": "LayoutModel",
      "state": {}
     },
     "a5c5b30a06ea4543a0caa43f4b6e4aa1": {
      "model_module": "@jupyter-widgets/controls",
      "model_module_version": "1.5.0",
      "model_name": "TextModel",
      "state": {
       "layout": "IPY_MODEL_4ef78f5caccb4120b2934d2d18031e5d",
       "placeholder": "Ingresa ",
       "style": "IPY_MODEL_79d3634e1a064d76a063b97626a4ee33"
      }
     },
     "a6eb656f3b1c471eb36da2fc906b4bba": {
      "model_module": "@jupyter-widgets/controls",
      "model_module_version": "1.5.0",
      "model_name": "SelectModel",
      "state": {
       "_options_labels": [
        "CH3CH2O",
        "Graphene"
       ],
       "index": 0,
       "layout": "IPY_MODEL_dcba5fcda631495cbe62ea45483a1eb0",
       "style": "IPY_MODEL_0ca3ebf18fe842d4bece4d428f778688"
      }
     },
     "a6f078597e8e4fb191553acc13cac2af": {
      "model_module": "@jupyter-widgets/controls",
      "model_module_version": "1.5.0",
      "model_name": "HBoxModel",
      "state": {
       "children": [
        "IPY_MODEL_9aec0b579b5340809df51b7d55630ad1",
        "IPY_MODEL_aa8cc0f5c48f42e1bbb22f5e3022ef50"
       ],
       "layout": "IPY_MODEL_4a5a495f343d42df9dc024f0591cd9c8"
      }
     },
     "a806936a89d440db84b03a45b0d15b26": {
      "model_module": "@jupyter-widgets/controls",
      "model_module_version": "1.5.0",
      "model_name": "FloatTextModel",
      "state": {
       "layout": "IPY_MODEL_99774088043547c498aa2cd474953452",
       "step": null,
       "style": "IPY_MODEL_cdaa3024c986467aa71b8e3ddf636211",
       "value": 1.12
      }
     },
     "a8bf50c85efa464c8f3535a5b7f64a17": {
      "model_module": "@jupyter-widgets/controls",
      "model_module_version": "1.5.0",
      "model_name": "DescriptionStyleModel",
      "state": {
       "description_width": ""
      }
     },
     "a8d6192441924c59b6c67ccc4d890e56": {
      "model_module": "@jupyter-widgets/controls",
      "model_module_version": "1.5.0",
      "model_name": "HBoxModel",
      "state": {
       "children": [
        "IPY_MODEL_8fd51eecfcc241ecaadee5ef0f1e9516",
        "IPY_MODEL_b47a2b1b67854c18b0ff2a8ef758bb17"
       ],
       "layout": "IPY_MODEL_724e72fee4f04fe68ab8a53fd078b2b7"
      }
     },
     "a8dd4169908d4524b3151ada08b07179": {
      "model_module": "@jupyter-widgets/base",
      "model_module_version": "1.2.0",
      "model_name": "LayoutModel",
      "state": {}
     },
     "a9d2aabd6c2646a6b2ee0793198dbaab": {
      "model_module": "@jupyter-widgets/base",
      "model_module_version": "1.2.0",
      "model_name": "LayoutModel",
      "state": {
       "align_items": "stretch",
       "border": "doted",
       "display": "flex",
       "flex_flow": "row",
       "width": "90%"
      }
     },
     "a9d805c5bd3d49959dde6479827f9c47": {
      "model_module": "@jupyter-widgets/base",
      "model_module_version": "1.2.0",
      "model_name": "LayoutModel",
      "state": {}
     },
     "aa8cc0f5c48f42e1bbb22f5e3022ef50": {
      "model_module": "@jupyter-widgets/controls",
      "model_module_version": "1.5.0",
      "model_name": "TextModel",
      "state": {
       "layout": "IPY_MODEL_3c54cb45612f472b944a35d997ee7329",
       "placeholder": "Ingresa ",
       "style": "IPY_MODEL_b6bad19e86f540ab8c3d66b410476937",
       "value": "None"
      }
     },
     "ab37df79671f4936a3d47d97447f36f3": {
      "model_module": "@jupyter-widgets/controls",
      "model_module_version": "1.5.0",
      "model_name": "DescriptionStyleModel",
      "state": {
       "description_width": ""
      }
     },
     "ab8b83c60c6c4663a49b5ea2e935ec5d": {
      "model_module": "@jupyter-widgets/controls",
      "model_module_version": "1.5.0",
      "model_name": "HBoxModel",
      "state": {
       "children": [
        "IPY_MODEL_082a85ae1271432b9ba450e3e1922889",
        "IPY_MODEL_644737dae97041ad987c25d46262ba4d"
       ],
       "layout": "IPY_MODEL_47cdbbe265ef4f29b260203848bdfcb3"
      }
     },
     "acc92ae7ac3e4bac834d59ee340479cd": {
      "model_module": "@jupyter-widgets/controls",
      "model_module_version": "1.5.0",
      "model_name": "LabelModel",
      "state": {
       "layout": "IPY_MODEL_843ba43ed4114105bd189242fd6806b4",
       "style": "IPY_MODEL_17662fdc9cdb4ac9834bb811010311c0",
       "value": "Lattice constant a: "
      }
     },
     "acd8eeb2192040cf960963945fba3d31": {
      "model_module": "@jupyter-widgets/base",
      "model_module_version": "1.2.0",
      "model_name": "LayoutModel",
      "state": {
       "height": "25px",
       "width": "auto"
      }
     },
     "ad046835079a410db04cf477da194224": {
      "model_module": "@jupyter-widgets/controls",
      "model_module_version": "1.5.0",
      "model_name": "LabelModel",
      "state": {
       "layout": "IPY_MODEL_c93f5e2fb08e4552b0813dc1c9b25e1d",
       "style": "IPY_MODEL_27a20e5587244e7b9483744ab6d58ace",
       "value": "Please upload a structure file"
      }
     },
     "ae11f584489c40979a65dcb8d3f6cb92": {
      "model_module": "@jupyter-widgets/base",
      "model_module_version": "1.2.0",
      "model_name": "LayoutModel",
      "state": {
       "grid_area": "dircontent",
       "width": "auto"
      }
     },
     "b0287608faf74b278b263da30c014bfb": {
      "model_module": "@jupyter-widgets/controls",
      "model_module_version": "1.5.0",
      "model_name": "DescriptionStyleModel",
      "state": {
       "description_width": ""
      }
     },
     "b063c787c27f4327b1a0005c9eda2a48": {
      "model_module": "@jupyter-widgets/controls",
      "model_module_version": "1.5.0",
      "model_name": "DescriptionStyleModel",
      "state": {
       "description_width": ""
      }
     },
     "b1adc63ac3e34db28b75ca29939b5bcd": {
      "model_module": "@jupyter-widgets/controls",
      "model_module_version": "1.5.0",
      "model_name": "VBoxModel",
      "state": {
       "children": [
        "IPY_MODEL_9e3ec48520ba4ffd83ecb224c2106442",
        "IPY_MODEL_26da01e1cb494b64bebb5200611fc840",
        "IPY_MODEL_614cb1cc42394b6d994202ed6eeace1c",
        "IPY_MODEL_e19ba27334c64b7e94f50ee4e3c928b9",
        "IPY_MODEL_5c0624f8194f4a09bc89d77075eea8c1",
        "IPY_MODEL_a6f078597e8e4fb191553acc13cac2af",
        "IPY_MODEL_34002e0e5ae14679b27bf413f52e14fe"
       ],
       "layout": "IPY_MODEL_b3a25e631a1a43f0afbdbb5eec6fccdf"
      }
     },
     "b22a6928241a4e238121c03175629f41": {
      "model_module": "@jupyter-widgets/base",
      "model_module_version": "1.2.0",
      "model_name": "LayoutModel",
      "state": {
       "grid_area": "pathlist",
       "width": "auto"
      }
     },
     "b2d80caa017a44caab9a595d633ae09a": {
      "model_module": "@jupyter-widgets/base",
      "model_module_version": "1.2.0",
      "model_name": "LayoutModel",
      "state": {
       "grid_template_areas": "\"widget001 widget002 widget002 widget002\"",
       "grid_template_columns": "repeat(4, 1fr)",
       "grid_template_rows": "repeat(1, 1fr)"
      }
     },
     "b3a25e631a1a43f0afbdbb5eec6fccdf": {
      "model_module": "@jupyter-widgets/base",
      "model_module_version": "1.2.0",
      "model_name": "LayoutModel",
      "state": {
       "width": "max-content"
      }
     },
     "b3fe7f1dfcfa44fab555f831a7543ed4": {
      "model_module": "@jupyter-widgets/base",
      "model_module_version": "1.2.0",
      "model_name": "LayoutModel",
      "state": {}
     },
     "b47a2b1b67854c18b0ff2a8ef758bb17": {
      "model_module": "@jupyter-widgets/controls",
      "model_module_version": "1.5.0",
      "model_name": "FloatTextModel",
      "state": {
       "layout": "IPY_MODEL_d7373d55385240b5b7283187d0590f60",
       "step": null,
       "style": "IPY_MODEL_7702dcc9449f41749841e2fdbb7a282f",
       "value": 1
      }
     },
     "b4a45dd5a8de4fb88b9b092b7ebb52bd": {
      "model_module": "@jupyter-widgets/base",
      "model_module_version": "1.2.0",
      "model_name": "LayoutModel",
      "state": {
       "height": "20px",
       "width": "50px"
      }
     },
     "b60f89e1de564041880b01a63e016816": {
      "model_module": "@jupyter-widgets/base",
      "model_module_version": "1.2.0",
      "model_name": "LayoutModel",
      "state": {
       "height": "25px",
       "width": "150px"
      }
     },
     "b62cc169e2d349c488ac184ff6b9d503": {
      "model_module": "@jupyter-widgets/base",
      "model_module_version": "1.2.0",
      "model_name": "LayoutModel",
      "state": {
       "height": "25px",
       "width": "150px"
      }
     },
     "b64a11575479441a97f7a7d5dc606e4c": {
      "model_module": "@jupyter-widgets/controls",
      "model_module_version": "1.5.0",
      "model_name": "LabelModel",
      "state": {
       "layout": "IPY_MODEL_032cb4f741594aa38a7753cc62344e0b",
       "style": "IPY_MODEL_6d894cb9d7ad4a02b96c8dfeeed561e7",
       "value": "Symbol: "
      }
     },
     "b6bad19e86f540ab8c3d66b410476937": {
      "model_module": "@jupyter-widgets/controls",
      "model_module_version": "1.5.0",
      "model_name": "DescriptionStyleModel",
      "state": {
       "description_width": ""
      }
     },
     "b6d86a58b05d4776908be3daa3811709": {
      "model_module": "@jupyter-widgets/controls",
      "model_module_version": "1.5.0",
      "model_name": "HBoxModel",
      "state": {
       "children": [
        "IPY_MODEL_39ea1a34838a42fa911baf096025ca4c",
        "IPY_MODEL_9bcffb2c85a54a9cb4c85b424d52f8e8"
       ],
       "layout": "IPY_MODEL_f6fe0365748746678069429ec75de94f"
      }
     },
     "b6eb867aadfe4753938ba8cf71307d19": {
      "model_module": "@jupyter-widgets/controls",
      "model_module_version": "1.5.0",
      "model_name": "DescriptionStyleModel",
      "state": {
       "description_width": ""
      }
     },
     "b7769c917b1c44b9ae4ee3ad0f2ddd9f": {
      "model_module": "@jupyter-widgets/controls",
      "model_module_version": "1.5.0",
      "model_name": "FloatTextModel",
      "state": {
       "layout": "IPY_MODEL_24ba2ace3e9542a8827e5c1f9b72ae86",
       "step": null,
       "style": "IPY_MODEL_4c9588586a0743678f12ff6c2bcf5d7f",
       "value": 1.09
      }
     },
     "b88fc8988629486cb9d6e8b84c70cac7": {
      "model_module": "@jupyter-widgets/base",
      "model_module_version": "1.2.0",
      "model_name": "LayoutModel",
      "state": {
       "height": "25px",
       "width": "150px"
      }
     },
     "b8bf199771154a8082bf8a0a95d18d17": {
      "model_module": "@jupyter-widgets/controls",
      "model_module_version": "1.5.0",
      "model_name": "DescriptionStyleModel",
      "state": {
       "description_width": ""
      }
     },
     "b8ccf80774f746b9ac2a84128c75d0d0": {
      "model_module": "@jupyter-widgets/base",
      "model_module_version": "1.2.0",
      "model_name": "LayoutModel",
      "state": {}
     },
     "b915ad4e783849699e6469e1a1fad9d8": {
      "model_module": "@jupyter-widgets/controls",
      "model_module_version": "1.5.0",
      "model_name": "DescriptionStyleModel",
      "state": {
       "description_width": ""
      }
     },
     "b9fdfb3251c7419bbd337013ff7506d1": {
      "model_module": "@jupyter-widgets/controls",
      "model_module_version": "1.5.0",
      "model_name": "LabelModel",
      "state": {
       "layout": "IPY_MODEL_e00f8dc9071f48048ebe2175b8b146e4",
       "style": "IPY_MODEL_1625485436ed475c9681f40043c1c8da",
       "value": "Style"
      }
     },
     "ba30ad9121604135845e6fa92267d8d9": {
      "model_module": "@jupyter-widgets/controls",
      "model_module_version": "1.5.0",
      "model_name": "DescriptionStyleModel",
      "state": {
       "description_width": ""
      }
     },
     "bac54dea826b42d9975de2e458cd17d7": {
      "model_module": "nglview-js-widgets",
      "model_module_version": "3.0.1",
      "model_name": "ColormakerRegistryModel",
      "state": {
       "_msg_ar": [],
       "_msg_q": [],
       "_ready": true,
       "layout": "IPY_MODEL_d512e2d7b3194255ac4e22b100aac47f"
      }
     },
     "bad05a0bb85c4657b5a90da0ba3f65ec": {
      "model_module": "@jupyter-widgets/base",
      "model_module_version": "1.2.0",
      "model_name": "LayoutModel",
      "state": {}
     },
     "bb58a328b59e442cbb221abef167e9b6": {
      "model_module": "@jupyter-widgets/base",
      "model_module_version": "1.2.0",
      "model_name": "LayoutModel",
      "state": {
       "align_items": "stretch",
       "border": "doted",
       "display": "flex",
       "flex_flow": "row",
       "width": "90%"
      }
     },
     "bbc32d82ca8f49af88385e06e4c4e222": {
      "model_module": "@jupyter-widgets/controls",
      "model_module_version": "1.5.0",
      "model_name": "TextModel",
      "state": {
       "layout": "IPY_MODEL_1afb4bf2197a4ebd9a91f7335b5d1a5c",
       "placeholder": "Ingresa ",
       "style": "IPY_MODEL_9fb79bc0bdf64025ad878b5758d5dd5f",
       "value": "None"
      }
     },
     "bc90f982e1c848c3b1f7d6f405f38c08": {
      "model_module": "@jupyter-widgets/controls",
      "model_module_version": "1.5.0",
      "model_name": "ButtonModel",
      "state": {
       "button_style": "primary",
       "description": "Update",
       "layout": "IPY_MODEL_689dfc1b36fd46bc8f681fbb52de5b3e",
       "style": "IPY_MODEL_735864dc27c649718a9523266b06257a"
      }
     },
     "bcde3a471c8442bc910959d933542382": {
      "model_module": "@jupyter-widgets/base",
      "model_module_version": "1.2.0",
      "model_name": "LayoutModel",
      "state": {}
     },
     "bd3608557aa54b99a692e7054f97a493": {
      "model_module": "@jupyter-widgets/base",
      "model_module_version": "1.2.0",
      "model_name": "LayoutModel",
      "state": {
       "align_items": "stretch",
       "border": "doted",
       "display": "flex",
       "flex_flow": "row",
       "width": "90%"
      }
     },
     "be5e1228596a4c4b9fdedf851df0c3c8": {
      "model_module": "@jupyter-widgets/base",
      "model_module_version": "1.2.0",
      "model_name": "LayoutModel",
      "state": {
       "height": "20px",
       "width": "50px"
      }
     },
     "bf06b071e2b0408c930c4252b4b3987d": {
      "model_module": "@jupyter-widgets/base",
      "model_module_version": "1.2.0",
      "model_name": "LayoutModel",
      "state": {
       "height": "25px",
       "width": "70px"
      }
     },
     "c2670b977de841f59fdee4dbfd830338": {
      "model_module": "@jupyter-widgets/base",
      "model_module_version": "1.2.0",
      "model_name": "LayoutModel",
      "state": {
       "align_items": "stretch",
       "border": "doted",
       "display": "flex",
       "flex_flow": "row",
       "width": "90%"
      }
     },
     "c51e2ffa97ca4cff8c61bbd8f7f6d067": {
      "model_module": "@jupyter-widgets/base",
      "model_module_version": "1.2.0",
      "model_name": "LayoutModel",
      "state": {
       "min_width": "6em",
       "width": "6em"
      }
     },
     "c6036ef2717f4523960911842fee426b": {
      "model_module": "@jupyter-widgets/controls",
      "model_module_version": "1.5.0",
      "model_name": "DropdownModel",
      "state": {
       "_options_labels": [
        "line",
        "cross",
        "stick",
        "sphere",
        "cartoon",
        "clicksphere"
       ],
       "index": 3,
       "layout": "IPY_MODEL_cd7d4bf783984004805c25f562c2fd04",
       "style": "IPY_MODEL_b6eb867aadfe4753938ba8cf71307d19"
      }
     },
     "c62df36170544a91bd0fc275525aa2ca": {
      "model_module": "@jupyter-widgets/base",
      "model_module_version": "1.2.0",
      "model_name": "LayoutModel",
      "state": {}
     },
     "c64eadd21f29441293457adbd320604e": {
      "model_module": "@jupyter-widgets/controls",
      "model_module_version": "1.5.0",
      "model_name": "BoundedIntTextModel",
      "state": {
       "layout": "IPY_MODEL_b4a45dd5a8de4fb88b9b092b7ebb52bd",
       "max": 2000,
       "style": "IPY_MODEL_e14a9520301745b8a604709e70e17629",
       "value": 1
      }
     },
     "c69f5425b4984fe48e7f63309578834b": {
      "model_module": "@jupyter-widgets/output",
      "model_module_version": "1.0.0",
      "model_name": "OutputModel",
      "state": {
       "layout": "IPY_MODEL_315ab507cab64c2ca846d384398b116d",
       "outputs": [
        {
         "data": {
          "application/vnd.jupyter.widget-view+json": {
           "model_id": "fa7e03220ab74d6182b20b6e571f93d2",
           "version_major": 2,
           "version_minor": 0
          },
          "text/plain": "HTML(value='Any structure has been loaded yet.')"
         },
         "metadata": {},
         "output_type": "display_data"
        }
       ]
      }
     },
     "c8eb2095f8af40bbaf3aa123e1fca62d": {
      "model_module": "@jupyter-widgets/controls",
      "model_module_version": "1.5.0",
      "model_name": "DescriptionStyleModel",
      "state": {
       "description_width": ""
      }
     },
     "c93f5e2fb08e4552b0813dc1c9b25e1d": {
      "model_module": "@jupyter-widgets/base",
      "model_module_version": "1.2.0",
      "model_name": "LayoutModel",
      "state": {}
     },
     "c9f1018415a04a3fab68e10e4326706e": {
      "model_module": "@jupyter-widgets/controls",
      "model_module_version": "1.5.0",
      "model_name": "DescriptionStyleModel",
      "state": {
       "description_width": ""
      }
     },
     "ca2718ddbba140cf838179f04a362a3c": {
      "model_module": "@jupyter-widgets/controls",
      "model_module_version": "1.5.0",
      "model_name": "DescriptionStyleModel",
      "state": {
       "description_width": ""
      }
     },
     "cae13dbf9ba84b7b9d7a2612cc417a30": {
      "model_module": "@jupyter-widgets/controls",
      "model_module_version": "1.5.0",
      "model_name": "DescriptionStyleModel",
      "state": {
       "description_width": ""
      }
     },
     "cbe5337ce4604a28b343a735dd910fea": {
      "model_module": "@jupyter-widgets/controls",
      "model_module_version": "1.5.0",
      "model_name": "DescriptionStyleModel",
      "state": {
       "description_width": ""
      }
     },
     "cc2e5061c41c4e7dad609bec4f4e357b": {
      "model_module": "@jupyter-widgets/controls",
      "model_module_version": "1.5.0",
      "model_name": "HBoxModel",
      "state": {
       "children": [
        "IPY_MODEL_04ffaa7a726f40928b6daec9892d88ec",
        "IPY_MODEL_ad046835079a410db04cf477da194224"
       ],
       "layout": "IPY_MODEL_065ac435ad2c43dba2543b8ab9f67437"
      }
     },
     "cc9df8d00310416a89a23fa613b24b8e": {
      "model_module": "@jupyter-widgets/controls",
      "model_module_version": "1.5.0",
      "model_name": "HBoxModel",
      "state": {
       "children": [
        "IPY_MODEL_6044a04e11fd49b3bebe477092437ac1",
        "IPY_MODEL_9327e39c82754daeb98f63cd55cc9849"
       ],
       "layout": "IPY_MODEL_d63d801f750a4a5eb662c2381052cfe0"
      }
     },
     "ccbefee2aec94ea2a1a56f05d1fa03a8": {
      "model_module": "@jupyter-widgets/controls",
      "model_module_version": "1.5.0",
      "model_name": "HBoxModel",
      "state": {
       "children": [
        "IPY_MODEL_a2840a6648474898b4d0818658652f2d",
        "IPY_MODEL_a5c5b30a06ea4543a0caa43f4b6e4aa1"
       ],
       "layout": "IPY_MODEL_3d5336ab834842c7bdfaa23d39a28f6e"
      }
     },
     "ccea41819aed47d781ddf6b614ac2ccb": {
      "model_module": "@jupyter-widgets/controls",
      "model_module_version": "1.5.0",
      "model_name": "ButtonModel",
      "state": {
       "button_style": "success",
       "description": "Generate structure",
       "layout": "IPY_MODEL_680e23264c7e4ab1bbab2607c8faecc0",
       "style": "IPY_MODEL_931ef7a040764320986407162b289d3a"
      }
     },
     "cd7d4bf783984004805c25f562c2fd04": {
      "model_module": "@jupyter-widgets/base",
      "model_module_version": "1.2.0",
      "model_name": "LayoutModel",
      "state": {
       "height": "25px",
       "width": "70px"
      }
     },
     "cd8ca647e52c40649958a8b6ab358029": {
      "model_module": "@jupyter-widgets/controls",
      "model_module_version": "1.5.0",
      "model_name": "BoundedIntTextModel",
      "state": {
       "layout": "IPY_MODEL_be5e1228596a4c4b9fdedf851df0c3c8",
       "max": 2000,
       "style": "IPY_MODEL_327de872bf6c4c53b98fad4aa2111187",
       "value": 1
      }
     },
     "cd908adb7b52414fa647a27dcc0e3bb6": {
      "model_module": "@jupyter-widgets/controls",
      "model_module_version": "1.5.0",
      "model_name": "DescriptionStyleModel",
      "state": {
       "description_width": ""
      }
     },
     "cda8b8607c514e87a3e417173a21cbcb": {
      "model_module": "@jupyter-widgets/controls",
      "model_module_version": "1.5.0",
      "model_name": "TextModel",
      "state": {
       "layout": "IPY_MODEL_47d5085c31b84409820fba049d276056",
       "placeholder": "output filename",
       "style": "IPY_MODEL_55a57357858f45dd934800dba62cec9a",
       "value": " "
      }
     },
     "cdaa3024c986467aa71b8e3ddf636211": {
      "model_module": "@jupyter-widgets/controls",
      "model_module_version": "1.5.0",
      "model_name": "DescriptionStyleModel",
      "state": {
       "description_width": ""
      }
     },
     "cdf385b29fa74ad1a65e1f14737eddd2": {
      "model_module": "@jupyter-widgets/base",
      "model_module_version": "1.2.0",
      "model_name": "LayoutModel",
      "state": {}
     },
     "d119b714960a40b08c4072bf526b180f": {
      "model_module": "@jupyter-widgets/controls",
      "model_module_version": "1.5.0",
      "model_name": "CheckboxModel",
      "state": {
       "disabled": false,
       "indent": false,
       "layout": "IPY_MODEL_5ecd4de9a2074510b34680be0f2ee700",
       "style": "IPY_MODEL_2092cc7898d34e6bb2f36c2b77baa127",
       "value": false
      }
     },
     "d16562b37da047118513b6b9dca88a33": {
      "model_module": "@jupyter-widgets/controls",
      "model_module_version": "1.5.0",
      "model_name": "DropdownModel",
      "state": {
       "_options_labels": [
        "zigzag",
        "armchair"
       ],
       "index": 0,
       "layout": "IPY_MODEL_8800eb739f1e4bfd84658d4bccca8700",
       "style": "IPY_MODEL_0b0314105f544e3e87dced37e4d718b6"
      }
     },
     "d17cb3edb0534bd99c34181a28dbce4e": {
      "model_module": "@jupyter-widgets/base",
      "model_module_version": "1.2.0",
      "model_name": "LayoutModel",
      "state": {}
     },
     "d18e3c2cd6004a53aedbd8f85a061d2b": {
      "model_module": "@jupyter-widgets/controls",
      "model_module_version": "1.5.0",
      "model_name": "BoundedIntTextModel",
      "state": {
       "layout": "IPY_MODEL_e9a0939aba6649abbf7604b5237da42a",
       "max": 2000,
       "style": "IPY_MODEL_2f71a2d01ee34d09aa55d6e84c9e6c4c",
       "value": 1
      }
     },
     "d20a146d5e3548e8a654b0ff49a2c2e2": {
      "model_module": "@jupyter-widgets/controls",
      "model_module_version": "1.5.0",
      "model_name": "DescriptionStyleModel",
      "state": {
       "description_width": ""
      }
     },
     "d3468d70557048d7ad19515c9bf3f704": {
      "model_module": "@jupyter-widgets/controls",
      "model_module_version": "1.5.0",
      "model_name": "DescriptionStyleModel",
      "state": {
       "description_width": ""
      }
     },
     "d512e2d7b3194255ac4e22b100aac47f": {
      "model_module": "@jupyter-widgets/base",
      "model_module_version": "1.2.0",
      "model_name": "LayoutModel",
      "state": {}
     },
     "d528382cebe94e1bb1189da18a0eb35a": {
      "model_module": "@jupyter-widgets/controls",
      "model_module_version": "1.5.0",
      "model_name": "LabelModel",
      "state": {
       "layout": "IPY_MODEL_fda0ce33b6df403d834268e6b2caf3a0",
       "style": "IPY_MODEL_0f5bb937087e48249750517c7eaf849c",
       "value": "Crystal Structure: "
      }
     },
     "d56562556b8b4141ab0166dd085f8a5e": {
      "model_module": "@jupyter-widgets/base",
      "model_module_version": "1.2.0",
      "model_name": "LayoutModel",
      "state": {
       "grid_area": "widget001"
      }
     },
     "d63d801f750a4a5eb662c2381052cfe0": {
      "model_module": "@jupyter-widgets/base",
      "model_module_version": "1.2.0",
      "model_name": "LayoutModel",
      "state": {}
     },
     "d6489095e562446e8634700c3fec3d75": {
      "model_module": "@jupyter-widgets/controls",
      "model_module_version": "1.5.0",
      "model_name": "HBoxModel",
      "state": {
       "children": [
        "IPY_MODEL_f86bf842ed2f4c3c92d378c67d26883a",
        "IPY_MODEL_c64eadd21f29441293457adbd320604e"
       ],
       "layout": "IPY_MODEL_91f4d9afbd574808989aa84f9b708507"
      }
     },
     "d6a0820a25c9423ebaf41b1528bbb291": {
      "model_module": "@jupyter-widgets/controls",
      "model_module_version": "1.5.0",
      "model_name": "DescriptionStyleModel",
      "state": {
       "description_width": ""
      }
     },
     "d6c44d435a6348748189684dd7aefb8a": {
      "model_module": "@jupyter-widgets/output",
      "model_module_version": "1.0.0",
      "model_name": "OutputModel",
      "state": {
       "layout": "IPY_MODEL_315ab507cab64c2ca846d384398b116d"
      }
     },
     "d6d7827ee8b34f98a17af99d1a802624": {
      "model_module": "@jupyter-widgets/controls",
      "model_module_version": "1.5.0",
      "model_name": "ToggleButtonModel",
      "state": {
       "description": "magnetic",
       "layout": "IPY_MODEL_b60f89e1de564041880b01a63e016816",
       "style": "IPY_MODEL_d9605299b9944f83a931ff74cb91d44e",
       "tooltip": "Make the edges magnetic."
      }
     },
     "d7373d55385240b5b7283187d0590f60": {
      "model_module": "@jupyter-widgets/base",
      "model_module_version": "1.2.0",
      "model_name": "LayoutModel",
      "state": {
       "height": "25px",
       "width": "70px"
      }
     },
     "d75d2666855d476e87683beaac107bdd": {
      "model_module": "@jupyter-widgets/controls",
      "model_module_version": "1.5.0",
      "model_name": "LabelModel",
      "state": {
       "layout": "IPY_MODEL_3c209cb0814840f59d2e014eed4ac614",
       "style": "IPY_MODEL_85cffd99e9e34b7a9829250779a28594",
       "value": "Delete Atom"
      }
     },
     "d860bbf815a44d2dbd2d9c2110e6ca43": {
      "model_module": "@jupyter-widgets/base",
      "model_module_version": "1.2.0",
      "model_name": "LayoutModel",
      "state": {}
     },
     "d8d5e1c3f070415381ad53504fa8005d": {
      "model_module": "@jupyter-widgets/controls",
      "model_module_version": "1.5.0",
      "model_name": "LabelModel",
      "state": {
       "layout": "IPY_MODEL_fa8f57c52240445386424a38ad9a9a6a",
       "style": "IPY_MODEL_d6a0820a25c9423ebaf41b1528bbb291",
       "value": "type value: The orientation of the ribbon "
      }
     },
     "d91dc489374149dbbbc1fd9cf6817423": {
      "model_module": "@jupyter-widgets/controls",
      "model_module_version": "1.5.0",
      "model_name": "HBoxModel",
      "state": {
       "children": [
        "IPY_MODEL_17665f8dece14ecabd36e8abddc1bc58",
        "IPY_MODEL_d18e3c2cd6004a53aedbd8f85a061d2b"
       ],
       "layout": "IPY_MODEL_a2df8890342541cc9b527f2b223c525f"
      }
     },
     "d945e95f18ea47a894395e3a7d0d7201": {
      "model_module": "@jupyter-widgets/controls",
      "model_module_version": "1.5.0",
      "model_name": "CheckboxModel",
      "state": {
       "disabled": false,
       "indent": false,
       "layout": "IPY_MODEL_a556b6063f764f6b862a57982c36c2b5",
       "style": "IPY_MODEL_2ae17c6caab84bb7a797dfe02f4debeb",
       "value": false
      }
     },
     "d9605299b9944f83a931ff74cb91d44e": {
      "model_module": "@jupyter-widgets/controls",
      "model_module_version": "1.5.0",
      "model_name": "DescriptionStyleModel",
      "state": {
       "description_width": ""
      }
     },
     "d9e28f0c92e34b22bc482c405f627c7d": {
      "model_module": "@jupyter-widgets/base",
      "model_module_version": "1.2.0",
      "model_name": "LayoutModel",
      "state": {
       "width": "auto"
      }
     },
     "da3b4faf0b054a60b075e8ab20acaac9": {
      "model_module": "@jupyter-widgets/base",
      "model_module_version": "1.2.0",
      "model_name": "LayoutModel",
      "state": {}
     },
     "da6fd08f7c86446cbb9f02fd56178df5": {
      "model_module": "@jupyter-widgets/base",
      "model_module_version": "1.2.0",
      "model_name": "LayoutModel",
      "state": {}
     },
     "db1930d3ed65469d86cb493a4e8dccf2": {
      "model_module": "@jupyter-widgets/controls",
      "model_module_version": "1.5.0",
      "model_name": "LabelModel",
      "state": {
       "layout": "IPY_MODEL_e899093863214170aa5df47a05c6404b",
       "style": "IPY_MODEL_a8bf50c85efa464c8f3535a5b7f64a17",
       "value": "m value: "
      }
     },
     "dcba5fcda631495cbe62ea45483a1eb0": {
      "model_module": "@jupyter-widgets/base",
      "model_module_version": "1.2.0",
      "model_name": "LayoutModel",
      "state": {}
     },
     "dd3c5c5594264e8a89b3057a37dd96d1": {
      "model_module": "@jupyter-widgets/controls",
      "model_module_version": "1.5.0",
      "model_name": "DescriptionStyleModel",
      "state": {
       "description_width": ""
      }
     },
     "de947520e5684e9da902e69f0e2a1c76": {
      "model_module": "@jupyter-widgets/controls",
      "model_module_version": "1.5.0",
      "model_name": "HBoxModel",
      "state": {
       "children": [
        "IPY_MODEL_76f5cfb1d9b94f26946f4e9088dc6394",
        "IPY_MODEL_f290aa746e4042d09d08f849e643079c"
       ],
       "layout": "IPY_MODEL_bad05a0bb85c4657b5a90da0ba3f65ec"
      }
     },
     "df2d3e6ce87641da8c59c7202a1f726e": {
      "model_module": "@jupyter-widgets/base",
      "model_module_version": "1.2.0",
      "model_name": "LayoutModel",
      "state": {
       "height": "25px",
       "width": "70px"
      }
     },
     "e00f8dc9071f48048ebe2175b8b146e4": {
      "model_module": "@jupyter-widgets/base",
      "model_module_version": "1.2.0",
      "model_name": "LayoutModel",
      "state": {}
     },
     "e08747349baf430fa7f3b24a139a39af": {
      "model_module": "@jupyter-widgets/base",
      "model_module_version": "1.2.0",
      "model_name": "LayoutModel",
      "state": {}
     },
     "e100897543fe45e7b595bc6934a9c5bd": {
      "model_module": "@jupyter-widgets/base",
      "model_module_version": "1.2.0",
      "model_name": "LayoutModel",
      "state": {}
     },
     "e14a9520301745b8a604709e70e17629": {
      "model_module": "@jupyter-widgets/controls",
      "model_module_version": "1.5.0",
      "model_name": "DescriptionStyleModel",
      "state": {
       "description_width": ""
      }
     },
     "e19ba27334c64b7e94f50ee4e3c928b9": {
      "model_module": "@jupyter-widgets/controls",
      "model_module_version": "1.5.0",
      "model_name": "HBoxModel",
      "state": {
       "children": [
        "IPY_MODEL_450ff13df9224af7a0f32da5a8a1b7a4",
        "IPY_MODEL_90efad1dc3f64093ba64a5970b5647c2"
       ],
       "layout": "IPY_MODEL_77ed135aebf34c8f8dd86bf22efe3634"
      }
     },
     "e1a5db8af9304c58aa6f4b4a440df54a": {
      "model_module": "@jupyter-widgets/controls",
      "model_module_version": "1.5.0",
      "model_name": "DescriptionStyleModel",
      "state": {
       "description_width": ""
      }
     },
     "e472873ab9bf431ebac0afe09608dae9": {
      "model_module": "@jupyter-widgets/controls",
      "model_module_version": "1.5.0",
      "model_name": "ToggleButtonModel",
      "state": {
       "description": "sheet",
       "layout": "IPY_MODEL_6856040bd1b84e24a6e9888cc97c046d",
       "style": "IPY_MODEL_804ba88cda6242eea897ee387ac22109",
       "tooltip": "If true, make an infinite sheet instead of a ribbon "
      }
     },
     "e4c76fd0dfe14e279900cdc89455b6e9": {
      "model_module": "@jupyter-widgets/base",
      "model_module_version": "1.2.0",
      "model_name": "LayoutModel",
      "state": {
       "height": "25px",
       "width": "auto"
      }
     },
     "e59429068baa412c98cb0f64e2fd97e8": {
      "model_module": "@jupyter-widgets/controls",
      "model_module_version": "1.5.0",
      "model_name": "ButtonModel",
      "state": {
       "button_style": "success",
       "description": "Load structure",
       "layout": "IPY_MODEL_acd8eeb2192040cf960963945fba3d31",
       "style": "IPY_MODEL_3bf24eb302414febb85f4f28daa396a1"
      }
     },
     "e6700a57d76640d6abc821fa905e0f9a": {
      "model_module": "@jupyter-widgets/base",
      "model_module_version": "1.2.0",
      "model_name": "LayoutModel",
      "state": {
       "align_items": "stretch",
       "border": "doted",
       "display": "flex",
       "flex_flow": "row",
       "width": "90%"
      }
     },
     "e819a44ae73948cfa5adfa81738b79c5": {
      "model_module": "@jupyter-widgets/base",
      "model_module_version": "1.2.0",
      "model_name": "LayoutModel",
      "state": {
       "height": "20px",
       "width": "50px"
      }
     },
     "e899093863214170aa5df47a05c6404b": {
      "model_module": "@jupyter-widgets/base",
      "model_module_version": "1.2.0",
      "model_name": "LayoutModel",
      "state": {}
     },
     "e8c2ba8bf4274c529e2c783210485689": {
      "model_module": "@jupyter-widgets/controls",
      "model_module_version": "1.5.0",
      "model_name": "DescriptionStyleModel",
      "state": {
       "description_width": ""
      }
     },
     "e8dbb08ac6e54ef686d3a27ed0728295": {
      "model_module": "@jupyter-widgets/base",
      "model_module_version": "1.2.0",
      "model_name": "LayoutModel",
      "state": {
       "height": "25px",
       "width": "70px"
      }
     },
     "e8e36d4403ef434585b3a8a7cd6d0303": {
      "model_module": "@jupyter-widgets/controls",
      "model_module_version": "1.5.0",
      "model_name": "VBoxModel",
      "state": {
       "children": [
        "IPY_MODEL_41d435c44ba04171bc8d2f514834a87d",
        "IPY_MODEL_6a3db1dbd5d444d8a9330b2bd1d2a05a",
        "IPY_MODEL_36b2513b456e4c33bb9418129d851321"
       ],
       "layout": "IPY_MODEL_8cd461a6b3424f61b8f48f531731edc7"
      }
     },
     "e8ef4ba42866488689019a0e3bc1e066": {
      "model_module": "@jupyter-widgets/controls",
      "model_module_version": "1.5.0",
      "model_name": "ButtonStyleModel",
      "state": {}
     },
     "e9a0939aba6649abbf7604b5237da42a": {
      "model_module": "@jupyter-widgets/base",
      "model_module_version": "1.2.0",
      "model_name": "LayoutModel",
      "state": {
       "height": "20px",
       "width": "50px"
      }
     },
     "e9ca7b6204cd41a59c58f0fe3bb15eeb": {
      "model_module": "@jupyter-widgets/base",
      "model_module_version": "1.2.0",
      "model_name": "LayoutModel",
      "state": {}
     },
     "e9fceddaf3a54b589cffd16f88de9145": {
      "model_module": "@jupyter-widgets/base",
      "model_module_version": "1.2.0",
      "model_name": "LayoutModel",
      "state": {
       "height": "25px",
       "width": "70px"
      }
     },
     "eaa569c67f3e45379b9327fdda828c38": {
      "model_module": "@jupyter-widgets/controls",
      "model_module_version": "1.5.0",
      "model_name": "DescriptionStyleModel",
      "state": {
       "description_width": ""
      }
     },
     "eac72a6631964d008f7f3385d9ba7386": {
      "model_module": "@jupyter-widgets/controls",
      "model_module_version": "1.5.0",
      "model_name": "ButtonStyleModel",
      "state": {}
     },
     "eb7ed7c3f0534894871a965c0a24f803": {
      "model_module": "@jupyter-widgets/base",
      "model_module_version": "1.2.0",
      "model_name": "LayoutModel",
      "state": {
       "grid_area": "widget002"
      }
     },
     "eb9a255b30d940a587931b014c9aecb5": {
      "model_module": "@jupyter-widgets/base",
      "model_module_version": "1.2.0",
      "model_name": "LayoutModel",
      "state": {
       "height": "25px",
       "width": "70px"
      }
     },
     "ebc749d72c304e03ad5df50a5a5410fa": {
      "model_module": "@jupyter-widgets/controls",
      "model_module_version": "1.5.0",
      "model_name": "DescriptionStyleModel",
      "state": {
       "description_width": ""
      }
     },
     "ec2e9bfb5cf34cce9d0b1e8a64ef3cd7": {
      "model_module": "@jupyter-widgets/controls",
      "model_module_version": "1.5.0",
      "model_name": "VBoxModel",
      "state": {
       "children": [
        "IPY_MODEL_cc2e5061c41c4e7dad609bec4f4e357b",
        "IPY_MODEL_4710b890ef4b4b23b26e64a58d8bfeea"
       ],
       "layout": "IPY_MODEL_81c07d88774c423db32023defea31f3c"
      }
     },
     "ec388fbf3cc744bc88f061c0155aa579": {
      "model_module": "@jupyter-widgets/base",
      "model_module_version": "1.2.0",
      "model_name": "LayoutModel",
      "state": {
       "width": "max-content"
      }
     },
     "ef0de77b983b40ada595fcecfa2c8c02": {
      "model_module": "@jupyter-widgets/base",
      "model_module_version": "1.2.0",
      "model_name": "LayoutModel",
      "state": {
       "height": "25px",
       "width": "auto"
      }
     },
     "f008b9124b7c4d3980cbf15404795a92": {
      "model_module": "@jupyter-widgets/base",
      "model_module_version": "1.2.0",
      "model_name": "LayoutModel",
      "state": {}
     },
     "f026d34322aa48efa5c3b3c284f4db96": {
      "model_module": "@jupyter-widgets/controls",
      "model_module_version": "1.5.0",
      "model_name": "FloatTextModel",
      "state": {
       "layout": "IPY_MODEL_8f714e59348a4cbc9edf376e1d8a6b09",
       "step": null,
       "style": "IPY_MODEL_53ad8240a010407ab8ee5dcd37276419",
       "value": 1.42
      }
     },
     "f04567e8778e4cb1b93972affff43722": {
      "model_module": "@jupyter-widgets/base",
      "model_module_version": "1.2.0",
      "model_name": "LayoutModel",
      "state": {
       "height": "25px",
       "width": "auto"
      }
     },
     "f0ce86f3bdcd42ffb1e13dcc9e168d2f": {
      "model_module": "@jupyter-widgets/controls",
      "model_module_version": "1.5.0",
      "model_name": "HBoxModel",
      "state": {
       "children": [
        "IPY_MODEL_6f863366acef47d29a0c23f597e90c98",
        "IPY_MODEL_e8e36d4403ef434585b3a8a7cd6d0303",
        "IPY_MODEL_bc90f982e1c848c3b1f7d6f405f38c08"
       ],
       "layout": "IPY_MODEL_d17cb3edb0534bd99c34181a28dbce4e"
      }
     },
     "f290aa746e4042d09d08f849e643079c": {
      "model_module": "@jupyter-widgets/controls",
      "model_module_version": "1.5.0",
      "model_name": "BoundedIntTextModel",
      "state": {
       "layout": "IPY_MODEL_2120df626e3f43758f3d4f8ff30e5283",
       "max": 2000,
       "style": "IPY_MODEL_118ec06a76bf4306b81fcaab441b523b",
       "value": 1
      }
     },
     "f477c3cfbc694dd0b988b9cd2092bb3d": {
      "model_module": "@jupyter-widgets/base",
      "model_module_version": "1.2.0",
      "model_name": "LayoutModel",
      "state": {
       "align_items": "stretch",
       "border": "doted",
       "display": "flex",
       "flex_flow": "row",
       "width": "90%"
      }
     },
     "f4d37421323a4d0a8e1c398c9adeec7f": {
      "model_module": "@jupyter-widgets/base",
      "model_module_version": "1.2.0",
      "model_name": "LayoutModel",
      "state": {
       "align_items": "stretch",
       "border": "doted",
       "display": "flex",
       "flex_flow": "row",
       "width": "90%"
      }
     },
     "f52cc7668ab14542ba64ae5c7dd2c766": {
      "buffers": [
       {
        "data": "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",
        "encoding": "base64",
        "path": [
         "value"
        ]
       }
      ],
      "model_module": "@jupyter-widgets/controls",
      "model_module_version": "1.5.0",
      "model_name": "ImageModel",
      "state": {
       "height": "200",
       "layout": "IPY_MODEL_735e27762d3b4816b080590e7851d6e9",
       "value": {},
       "width": "100"
      }
     },
     "f61e40d7ff8d49548e1db0ffa0b2bfd1": {
      "model_module": "@jupyter-widgets/base",
      "model_module_version": "1.2.0",
      "model_name": "LayoutModel",
      "state": {
       "display": "none"
      }
     },
     "f6c4989dcd814d4fa685210ba6bf85e0": {
      "model_module": "@jupyter-widgets/base",
      "model_module_version": "1.2.0",
      "model_name": "LayoutModel",
      "state": {
       "height": "20px",
       "width": "50px"
      }
     },
     "f6fe0365748746678069429ec75de94f": {
      "model_module": "@jupyter-widgets/base",
      "model_module_version": "1.2.0",
      "model_name": "LayoutModel",
      "state": {}
     },
     "f726e8c568364679a438086398ce60b8": {
      "model_module": "@jupyter-widgets/controls",
      "model_module_version": "1.5.0",
      "model_name": "HBoxModel",
      "state": {
       "children": [
        "IPY_MODEL_083c7ced08e34a11b7db897393456b1a",
        "IPY_MODEL_1dd21a55d0d644eba94f6cfaaa10640b"
       ],
       "layout": "IPY_MODEL_6fc65bd5aed14c3db9860719aaf34d34"
      }
     },
     "f7d331a222c04011bbc8a48cb825f06f": {
      "model_module": "@jupyter-widgets/base",
      "model_module_version": "1.2.0",
      "model_name": "LayoutModel",
      "state": {
       "height": "20px",
       "width": "50px"
      }
     },
     "f86bf842ed2f4c3c92d378c67d26883a": {
      "model_module": "@jupyter-widgets/controls",
      "model_module_version": "1.5.0",
      "model_name": "LabelModel",
      "state": {
       "layout": "IPY_MODEL_0b9fcd5abfca417d9bb2ff4d85ddd8b2",
       "style": "IPY_MODEL_31d4d13f1a3f461ab0315d07f0e1d74b",
       "value": "Total number of atoms: "
      }
     },
     "f8d46d5a500247148c63f31003755658": {
      "model_module": "@jupyter-widgets/controls",
      "model_module_version": "1.5.0",
      "model_name": "ButtonStyleModel",
      "state": {}
     },
     "f9d6df3886c7417bac7ab0e9a9b1183a": {
      "model_module": "@jupyter-widgets/base",
      "model_module_version": "1.2.0",
      "model_name": "LayoutModel",
      "state": {}
     },
     "fa6a06cd3afc465a95f5b40862a34a1b": {
      "model_module": "@jupyter-widgets/base",
      "model_module_version": "1.2.0",
      "model_name": "LayoutModel",
      "state": {
       "display": "none",
       "min_width": "6em",
       "width": "6em"
      }
     },
     "fa7e03220ab74d6182b20b6e571f93d2": {
      "model_module": "@jupyter-widgets/controls",
      "model_module_version": "1.5.0",
      "model_name": "HTMLModel",
      "state": {
       "layout": "IPY_MODEL_f008b9124b7c4d3980cbf15404795a92",
       "style": "IPY_MODEL_53deea8a14974df98107bf357f653246",
       "value": "Any structure has been loaded yet."
      }
     },
     "fa8f57c52240445386424a38ad9a9a6a": {
      "model_module": "@jupyter-widgets/base",
      "model_module_version": "1.2.0",
      "model_name": "LayoutModel",
      "state": {}
     },
     "faed4978fd4b4e1fab1b2a3e7a52ccc7": {
      "model_module": "@jupyter-widgets/base",
      "model_module_version": "1.2.0",
      "model_name": "LayoutModel",
      "state": {}
     },
     "fb011466262e435fa654bbbf7648084f": {
      "model_module": "@jupyter-widgets/base",
      "model_module_version": "1.2.0",
      "model_name": "LayoutModel",
      "state": {}
     },
     "fb0404a46c454befac74487e9c2e26b6": {
      "model_module": "@jupyter-widgets/base",
      "model_module_version": "1.2.0",
      "model_name": "LayoutModel",
      "state": {}
     },
     "fb2ee5e2d2f047adad9fc94c82390c40": {
      "model_module": "@jupyter-widgets/base",
      "model_module_version": "1.2.0",
      "model_name": "LayoutModel",
      "state": {
       "align_items": "stretch",
       "border": "doted",
       "display": "flex",
       "flex_flow": "row",
       "width": "90%"
      }
     },
     "fb4819366b1e4e63a4944ea5391e6776": {
      "model_module": "@jupyter-widgets/base",
      "model_module_version": "1.2.0",
      "model_name": "LayoutModel",
      "state": {}
     },
     "fc680585a8d04f73b78f1896accf9ba7": {
      "model_module": "@jupyter-widgets/base",
      "model_module_version": "1.2.0",
      "model_name": "LayoutModel",
      "state": {
       "overflow": "auto"
      }
     },
     "fc6ca0a5d8194f5b852b25a93d7144f0": {
      "model_module": "@jupyter-widgets/controls",
      "model_module_version": "1.5.0",
      "model_name": "LabelModel",
      "state": {
       "layout": "IPY_MODEL_4f24e69991e744de94b6b4d6d8db7cbd",
       "style": "IPY_MODEL_21da8338e24f4156b19be36d3640abde",
       "value": "Carbon-carbon bond length (Angstrom): "
      }
     },
     "fcaecc67bc504da5b231e85df82e7ccd": {
      "model_module": "@jupyter-widgets/controls",
      "model_module_version": "1.5.0",
      "model_name": "ButtonStyleModel",
      "state": {}
     },
     "fd2f6e018aa740dc9498ae40ff048998": {
      "model_module": "@jupyter-widgets/base",
      "model_module_version": "1.2.0",
      "model_name": "LayoutModel",
      "state": {
       "height": "25px",
       "width": "150px"
      }
     },
     "fda0ce33b6df403d834268e6b2caf3a0": {
      "model_module": "@jupyter-widgets/base",
      "model_module_version": "1.2.0",
      "model_name": "LayoutModel",
      "state": {}
     },
     "fda56f3de5f04bbb901121f7c9a2f96c": {
      "model_module": "@jupyter-widgets/controls",
      "model_module_version": "1.5.0",
      "model_name": "VBoxModel",
      "state": {
       "children": [
        "IPY_MODEL_c69f5425b4984fe48e7f63309578834b"
       ],
       "layout": "IPY_MODEL_eb7ed7c3f0534894871a965c0a24f803"
      }
     }
    },
    "version_major": 2,
    "version_minor": 0
   }
  }
 },
 "nbformat": 4,
 "nbformat_minor": 5
}
