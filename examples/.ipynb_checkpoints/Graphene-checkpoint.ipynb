{
 "cells": [
  {
   "cell_type": "markdown",
   "id": "95a8f300-7dab-4eed-b0d7-209c5ef709cb",
   "metadata": {},
   "source": [
    "#  Graphene \n",
    "\n",
    "Graphene is the most studied two-dimensional system. A  complete review of graphene's electronic properties is written in [1]. The easy form to obtain graphene in the laboratory and its remarkable electronic, thermal,  mechanical, and optical properties turn it into the most studied two-dimensional (2D) material [2]. This explosion of interest in graphene and the release of 2D materials matches an incredible growth of the computational tools to analyze and characterize the properties of 2D materials and predict new 2D materials [3]. The all computational tool density functional theory (DFT)  stands out by its power for quantitatively predicting several properties of complex materials.  We  have  access to   many  comersial  and  academic  implementation  of  the  DFT theory   \n",
    "\n",
    "Graphene  is  a  triangular  lattice  with  two  carbon  atoms  in  the  unit  cell. The  vector  of  the unit  cell and the  atomic positions  of carbon  atoms  for  graphene  are  given  in the **Tab 1**\n",
    "\n",
    " Paramete   | $\\hat{i}$              | $\\hat{j}$           | $\\hat{k}$ |\n",
    " -------- |-----------------------|----------------------- |-----|\n",
    "$\\vec{a}$ |  $\\frac{3}{2}a_{cc}$  |$\\frac{\\sqrt{3}}{2}acc$ | 0   |\n",
    "$\\vec{b}$ | $\\frac{3}{2}a_{cc}$   |$-\\frac{\\sqrt{3}}{2}acc$| 0   |\n",
    "$\\vec{c}$ |     $0$               |      $0$               | $15.$    \n",
    "Atom$_{A}$|  $0$                  | $0$                    | $0$ |\n",
    "Atom$_{B}$|  $a_{cc}$             | $0$                    | $0$ |\n",
    "\n",
    "**Tab 1:** Geometric  parameter  to  graphene  unit  cell.  $a_{cc} =1.44 \\overset{\\circ}{A}$ represent  the  distance  between  two  carbon  atoms  in  the  structure.\n",
    "\n",
    "The  geometric  parameters  of  the  unit  cell  can  be  include  in  SPIN-GUI. \n",
    "\n",
    "\n",
    "\n",
    "\n",
    "The  first  step  is  activate  the  configuration  and  intance  the  App,  employed the next  code\n",
    "\n",
    "```python\n",
    "from spin import *\n",
    "App = Spin()\n",
    "\n",
    "```\n",
    "then  we  can  used  module structure()  of  the  SPIN-GUI to  define  the  unit  cell \n",
    "\n"
   ]
  },
  {
   "cell_type": "markdown",
   "id": "8f57d610-dea4-4ef3-bce4-9c62f08f662b",
   "metadata": {},
   "source": [
    " # Preconfiguration  SPIN GUI \n",
    "\n",
    "To  activate  the  configuration  and  intance  the  App,  employed the next  code\n",
    "\n",
    "```python\n",
    "from spin import *\n",
    "App = Spin()\n",
    "\n",
    "\n",
    "```\n",
    "Then   we  have  access to  the  SPIN  modulos\n",
    "\n",
    "    *structure()\n",
    "    *preprocessing()\n",
    "    *calculations()\n",
    "    "
   ]
  },
  {
   "cell_type": "markdown",
   "id": "76075885",
   "metadata": {},
   "source": [
    "<div class=\"alert alert-block alert-warning\">\n",
    "<b>Important note:</b> If you want to execute Graphene example please copy or move the current notebook to SPIN root folder (SPIN/), i.e. the same path as SPIN-GUI.ipynb (https://github.com/JoseMVergara/SPIN). \n",
    "</div>"
   ]
  },
  {
   "cell_type": "code",
   "execution_count": 5,
   "id": "14505561",
   "metadata": {},
   "outputs": [
    {
     "ename": "ModuleNotFoundError",
     "evalue": "No module named 'create_fdf_file'",
     "output_type": "error",
     "traceback": [
      "\u001b[0;31m---------------------------------------------------------------------------\u001b[0m",
      "\u001b[0;31mModuleNotFoundError\u001b[0m                       Traceback (most recent call last)",
      "\u001b[0;32m/tmp/ipykernel_637/2643318253.py\u001b[0m in \u001b[0;36m<module>\u001b[0;34m\u001b[0m\n\u001b[1;32m      1\u001b[0m \u001b[0;31m#  configure  files\u001b[0m\u001b[0;34m\u001b[0m\u001b[0;34m\u001b[0m\u001b[0m\n\u001b[0;32m----> 2\u001b[0;31m \u001b[0;32mfrom\u001b[0m \u001b[0mspin\u001b[0m \u001b[0;32mimport\u001b[0m \u001b[0;34m*\u001b[0m\u001b[0;34m\u001b[0m\u001b[0;34m\u001b[0m\u001b[0m\n\u001b[0m\u001b[1;32m      3\u001b[0m \u001b[0;34m\u001b[0m\u001b[0m\n\u001b[1;32m      4\u001b[0m \u001b[0mApp\u001b[0m \u001b[0;34m=\u001b[0m \u001b[0mSpin\u001b[0m\u001b[0;34m(\u001b[0m\u001b[0;34m)\u001b[0m\u001b[0;34m\u001b[0m\u001b[0;34m\u001b[0m\u001b[0m\n",
      "\u001b[0;32m/mnt/c/Users/57321/Dropbox/Personal/Nanotubos_Github/Ensinia/SPIN/examples/../spin.py\u001b[0m in \u001b[0;36m<module>\u001b[0;34m\u001b[0m\n\u001b[1;32m      9\u001b[0m \u001b[0msys\u001b[0m\u001b[0;34m.\u001b[0m\u001b[0mpath\u001b[0m\u001b[0;34m.\u001b[0m\u001b[0mappend\u001b[0m\u001b[0;34m(\u001b[0m\u001b[0;34m'./src/scripts/'\u001b[0m\u001b[0;34m)\u001b[0m\u001b[0;34m\u001b[0m\u001b[0;34m\u001b[0m\u001b[0m\n\u001b[1;32m     10\u001b[0m \u001b[0msys\u001b[0m\u001b[0;34m.\u001b[0m\u001b[0mpath\u001b[0m\u001b[0;34m.\u001b[0m\u001b[0mappend\u001b[0m\u001b[0;34m(\u001b[0m\u001b[0;34m'./scripts/'\u001b[0m\u001b[0;34m)\u001b[0m\u001b[0;34m\u001b[0m\u001b[0;34m\u001b[0m\u001b[0m\n\u001b[0;32m---> 11\u001b[0;31m \u001b[0;32mfrom\u001b[0m \u001b[0mmain\u001b[0m \u001b[0;32mimport\u001b[0m \u001b[0;34m*\u001b[0m\u001b[0;34m\u001b[0m\u001b[0;34m\u001b[0m\u001b[0m\n\u001b[0m\u001b[1;32m     12\u001b[0m \u001b[0;34m\u001b[0m\u001b[0m\n\u001b[1;32m     13\u001b[0m \u001b[0m__version__\u001b[0m \u001b[0;34m=\u001b[0m \u001b[0;34m\"1.0\"\u001b[0m\u001b[0;34m\u001b[0m\u001b[0;34m\u001b[0m\u001b[0m\n",
      "\u001b[0;32m/mnt/c/Users/57321/Dropbox/Personal/Nanotubos_Github/Ensinia/SPIN/examples/../src/scripts/main.py\u001b[0m in \u001b[0;36m<module>\u001b[0;34m\u001b[0m\n\u001b[1;32m     21\u001b[0m \u001b[0;32mfrom\u001b[0m \u001b[0mcreate_widgets\u001b[0m \u001b[0;32mimport\u001b[0m \u001b[0;34m*\u001b[0m\u001b[0;34m\u001b[0m\u001b[0;34m\u001b[0m\u001b[0m\n\u001b[1;32m     22\u001b[0m \u001b[0;32mimport\u001b[0m \u001b[0mpy3Dmol\u001b[0m\u001b[0;34m\u001b[0m\u001b[0;34m\u001b[0m\u001b[0m\n\u001b[0;32m---> 23\u001b[0;31m \u001b[0;32mfrom\u001b[0m \u001b[0mcreate_fdf_file\u001b[0m \u001b[0;32mimport\u001b[0m \u001b[0;34m*\u001b[0m\u001b[0;34m\u001b[0m\u001b[0;34m\u001b[0m\u001b[0m\n\u001b[0m\u001b[1;32m     24\u001b[0m \u001b[0;32mfrom\u001b[0m \u001b[0msiesta_check_outputs\u001b[0m \u001b[0;32mimport\u001b[0m \u001b[0;34m*\u001b[0m\u001b[0;34m\u001b[0m\u001b[0;34m\u001b[0m\u001b[0m\n\u001b[1;32m     25\u001b[0m \u001b[0;32mfrom\u001b[0m \u001b[0mviewer\u001b[0m \u001b[0;32mimport\u001b[0m \u001b[0;34m*\u001b[0m\u001b[0;34m\u001b[0m\u001b[0;34m\u001b[0m\u001b[0m\n",
      "\u001b[0;31mModuleNotFoundError\u001b[0m: No module named 'create_fdf_file'"
     ]
    }
   ],
   "source": [
    "#  configure  files \n",
    "from spin import *\n",
    "\n",
    "App = Spin()"
   ]
  },
  {
   "cell_type": "code",
   "execution_count": 3,
   "id": "f91621fc-a5dc-459c-b72f-6f811944547f",
   "metadata": {
    "autorun": true,
    "tags": []
   },
   "outputs": [
    {
     "data": {
      "application/vnd.jupyter.widget-view+json": {
       "model_id": "8a6ebde437324a25ba1fadcbca7f2088",
       "version_major": 2,
       "version_minor": 0
      },
      "text/plain": [
       "Tab(children=(Output(layout=Layout(align_content='stretch', align_items='stretch', border='solid 1px', display…"
      ]
     },
     "metadata": {},
     "output_type": "display_data"
    }
   ],
   "source": [
    "App.structure()"
   ]
  },
  {
   "cell_type": "markdown",
   "id": "c2484721-3700-4150-9a17-b0a7761fd359",
   "metadata": {},
   "source": [
    "#  Cofigured SIESTA  calculation \n",
    "\n",
    "With  the  initial  structure   create,  the  next  step  is  configure  the  siesta  calculation,  defined  the   necesary  parameters.  ENSINA-GUI  employing these  para meters  to generate  the  default  fdf  siesta  input  file.  "
   ]
  },
  {
   "cell_type": "code",
   "execution_count": 4,
   "id": "e379ecdc-a31e-4bfd-a666-a1798fb26f5f",
   "metadata": {
    "autorun": true,
    "tags": []
   },
   "outputs": [
    {
     "data": {
      "application/vnd.jupyter.widget-view+json": {
       "model_id": "7ebe164f464140b18619bef9f8b2f4ef",
       "version_major": 2,
       "version_minor": 0
      },
      "text/plain": [
       "Image(value=b'\\x89PNG\\r\\n\\x1a\\n\\x00\\x00\\x00\\rIHDR\\x00\\x00\\x01\\xff\\x00\\x00\\x01.\\x08\\x06\\x00\\x00\\x00\\x80\\x93\\x1b…"
      ]
     },
     "metadata": {},
     "output_type": "display_data"
    },
    {
     "data": {
      "application/vnd.jupyter.widget-view+json": {
       "model_id": "17a1ee97253a4977a5a6a290b0c83c48",
       "version_major": 2,
       "version_minor": 0
      },
      "text/plain": [
       "Accordion(children=(VBox(children=(HBox(children=(Image(value=b'\\x89PNG\\r\\n\\x1a\\n\\x00\\x00\\x00\\rIHDR\\x00\\x00\\x0…"
      ]
     },
     "metadata": {},
     "output_type": "display_data"
    }
   ],
   "source": [
    "# setup  siesta  parameters \n",
    "App.preprocessing()"
   ]
  },
  {
   "cell_type": "markdown",
   "id": "e77ede82-a054-420b-9ed9-23945e85159d",
   "metadata": {},
   "source": [
    "#  Start  calculation\n"
   ]
  },
  {
   "cell_type": "code",
   "execution_count": 5,
   "id": "f98b7287-9484-4027-a55d-64308d46c5ce",
   "metadata": {
    "scrolled": false
   },
   "outputs": [
    {
     "data": {
      "application/vnd.jupyter.widget-view+json": {
       "model_id": "af27df921d344c6889ea5c59b70678dc",
       "version_major": 2,
       "version_minor": 0
      },
      "text/plain": [
       "Image(value=b'\\x89PNG\\r\\n\\x1a\\n\\x00\\x00\\x00\\rIHDR\\x00\\x00\\x01\\xff\\x00\\x00\\x01.\\x08\\x06\\x00\\x00\\x00\\x80\\x93\\x1b…"
      ]
     },
     "metadata": {},
     "output_type": "display_data"
    },
    {
     "data": {
      "application/vnd.jupyter.widget-view+json": {
       "model_id": "8d7a0710e5654e8d929396e732b63340",
       "version_major": 2,
       "version_minor": 0
      },
      "text/plain": [
       "Accordion(children=(VBox(children=(Image(value=b'\\x89PNG\\r\\n\\x1a\\n\\x00\\x00\\x00\\rIHDR\\x00\\x00\\x08\\x00\\x00\\x00\\x…"
      ]
     },
     "metadata": {},
     "output_type": "display_data"
    },
    {
     "data": {
      "text/plain": [
       "<main.Calculations at 0x7f4f227f5610>"
      ]
     },
     "execution_count": 5,
     "metadata": {},
     "output_type": "execute_result"
    }
   ],
   "source": [
    "Calculations()"
   ]
  },
  {
   "cell_type": "markdown",
   "id": "cdda220e-b98d-4909-afbb-03839edfbe23",
   "metadata": {},
   "source": [
    "##  References \n",
    "\n",
    "[1] Neto, A. C., Guinea, F., Peres, N. M., Novoselov, K. S., & Geim, A. K. (2009). The electronic properties of graphene. Reviews of modern physics, 81(1), 109.\n",
    "\n",
    "[2] Novoselov, K. S., Colombo, L., Gellert, P. R., Schwab, M. G., & Kim, K. (2012). A roadmap for graphene. nature, 490(7419), 192-200.\n",
    "\n",
    "[3] Paul, J. T., Singh, A. K., Dong, Z., Zhuang, H., Revard, B. C., Rijal, B., ... & Hennig, R. G. (2017). Computational methods for 2D materials: discovery, property characterization, and application design. Journal of Physics: Condensed Matter, 29(47), 473001."
   ]
  },
  {
   "cell_type": "code",
   "execution_count": null,
   "id": "01560684-ad91-4162-ad24-ea1a807a4900",
   "metadata": {},
   "outputs": [],
   "source": []
  }
 ],
 "metadata": {
  "citation-manager": {
   "items": {}
  },
  "kernelspec": {
   "display_name": "Python 3 (ipykernel)",
   "language": "python",
   "name": "python3"
  },
  "language_info": {
   "codemirror_mode": {
    "name": "ipython",
    "version": 3
   },
   "file_extension": ".py",
   "mimetype": "text/x-python",
   "name": "python",
   "nbconvert_exporter": "python",
   "pygments_lexer": "ipython3",
   "version": "3.9.7"
  }
 },
 "nbformat": 4,
 "nbformat_minor": 5
}
